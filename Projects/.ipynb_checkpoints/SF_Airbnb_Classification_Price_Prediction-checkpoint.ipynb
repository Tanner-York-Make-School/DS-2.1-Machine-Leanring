{
 "cells": [
  {
   "cell_type": "markdown",
   "metadata": {
    "slideshow": {
     "slide_type": "slide"
    }
   },
   "source": [
    "# San Francisco Airbnb Price Prediction\n",
    "The goal of this prediction is to help people who are new and possibly old to Airbnb help accurately price their housing"
   ]
  },
  {
   "cell_type": "code",
   "execution_count": 1,
   "metadata": {
    "slideshow": {
     "slide_type": "skip"
    }
   },
   "outputs": [],
   "source": [
    "import pandas as pd\n",
    "import matplotlib.pyplot as plt\n",
    "import seaborn as sns\n",
    "\n",
    "from sklearn.tree import DecisionTreeClassifier\n",
    "from sklearn.linear_model import LinearRegression, LogisticRegression\n",
    "from sklearn.ensemble import RandomForestClassifier\n",
    "from sklearn.svm import SVC\n",
    "\n",
    "from sklearn.model_selection import train_test_split\n",
    "from sklearn.metrics import accuracy_score, f1_score\n",
    "from sklearn.decomposition import PCA\n",
    "from sklearn.model_selection import cross_val_score \n",
    "from sklearn.preprocessing import StandardScaler"
   ]
  },
  {
   "cell_type": "markdown",
   "metadata": {
    "slideshow": {
     "slide_type": "slide"
    }
   },
   "source": [
    "## What the Data Looks Like"
   ]
  },
  {
   "cell_type": "code",
   "execution_count": 2,
   "metadata": {
    "slideshow": {
     "slide_type": "skip"
    }
   },
   "outputs": [
    {
     "data": {
      "text/html": [
       "<div>\n",
       "<style scoped>\n",
       "    .dataframe tbody tr th:only-of-type {\n",
       "        vertical-align: middle;\n",
       "    }\n",
       "\n",
       "    .dataframe tbody tr th {\n",
       "        vertical-align: top;\n",
       "    }\n",
       "\n",
       "    .dataframe thead th {\n",
       "        text-align: right;\n",
       "    }\n",
       "</style>\n",
       "<table border=\"1\" class=\"dataframe\">\n",
       "  <thead>\n",
       "    <tr style=\"text-align: right;\">\n",
       "      <th></th>\n",
       "      <th>name</th>\n",
       "      <th>room_type</th>\n",
       "      <th>price</th>\n",
       "      <th>minimum_nights</th>\n",
       "      <th>calculated_host_listings_count</th>\n",
       "      <th>availability_365</th>\n",
       "    </tr>\n",
       "  </thead>\n",
       "  <tbody>\n",
       "    <tr>\n",
       "      <th>0</th>\n",
       "      <td>Bright, Modern Garden Unit - 1BR/1B</td>\n",
       "      <td>Entire home/apt</td>\n",
       "      <td>170</td>\n",
       "      <td>1</td>\n",
       "      <td>1</td>\n",
       "      <td>106</td>\n",
       "    </tr>\n",
       "    <tr>\n",
       "      <th>1</th>\n",
       "      <td>Creative Sanctuary</td>\n",
       "      <td>Entire home/apt</td>\n",
       "      <td>235</td>\n",
       "      <td>30</td>\n",
       "      <td>1</td>\n",
       "      <td>0</td>\n",
       "    </tr>\n",
       "    <tr>\n",
       "      <th>2</th>\n",
       "      <td>A Friendly Room - UCSF/USF - San Francisco</td>\n",
       "      <td>Private room</td>\n",
       "      <td>65</td>\n",
       "      <td>32</td>\n",
       "      <td>9</td>\n",
       "      <td>365</td>\n",
       "    </tr>\n",
       "    <tr>\n",
       "      <th>3</th>\n",
       "      <td>Friendly Room Apt. Style -UCSF/USF - San Franc...</td>\n",
       "      <td>Private room</td>\n",
       "      <td>65</td>\n",
       "      <td>32</td>\n",
       "      <td>9</td>\n",
       "      <td>365</td>\n",
       "    </tr>\n",
       "    <tr>\n",
       "      <th>4</th>\n",
       "      <td>Historic Alamo Square Victorian</td>\n",
       "      <td>Entire home/apt</td>\n",
       "      <td>703</td>\n",
       "      <td>5</td>\n",
       "      <td>2</td>\n",
       "      <td>365</td>\n",
       "    </tr>\n",
       "    <tr>\n",
       "      <th>...</th>\n",
       "      <td>...</td>\n",
       "      <td>...</td>\n",
       "      <td>...</td>\n",
       "      <td>...</td>\n",
       "      <td>...</td>\n",
       "      <td>...</td>\n",
       "    </tr>\n",
       "    <tr>\n",
       "      <th>8133</th>\n",
       "      <td>San Francisco Home in the Heart of Lower Haight</td>\n",
       "      <td>Entire home/apt</td>\n",
       "      <td>112</td>\n",
       "      <td>30</td>\n",
       "      <td>1</td>\n",
       "      <td>173</td>\n",
       "    </tr>\n",
       "    <tr>\n",
       "      <th>8134</th>\n",
       "      <td>UP to 10 First Responders WANTED for 3 LEVELS ...</td>\n",
       "      <td>Entire home/apt</td>\n",
       "      <td>269</td>\n",
       "      <td>30</td>\n",
       "      <td>4</td>\n",
       "      <td>90</td>\n",
       "    </tr>\n",
       "    <tr>\n",
       "      <th>8135</th>\n",
       "      <td>Furnished 3 bedroom house</td>\n",
       "      <td>Entire home/apt</td>\n",
       "      <td>375</td>\n",
       "      <td>30</td>\n",
       "      <td>2</td>\n",
       "      <td>310</td>\n",
       "    </tr>\n",
       "    <tr>\n",
       "      <th>8136</th>\n",
       "      <td>Beautiful Room Near Ghirardelli Square for Sublet</td>\n",
       "      <td>Private room</td>\n",
       "      <td>86</td>\n",
       "      <td>30</td>\n",
       "      <td>1</td>\n",
       "      <td>84</td>\n",
       "    </tr>\n",
       "    <tr>\n",
       "      <th>8137</th>\n",
       "      <td>Stylish Apartment by Beach for Longer Term Rental</td>\n",
       "      <td>Entire home/apt</td>\n",
       "      <td>159</td>\n",
       "      <td>30</td>\n",
       "      <td>1</td>\n",
       "      <td>177</td>\n",
       "    </tr>\n",
       "  </tbody>\n",
       "</table>\n",
       "<p>8138 rows × 6 columns</p>\n",
       "</div>"
      ],
      "text/plain": [
       "                                                   name        room_type  \\\n",
       "0                   Bright, Modern Garden Unit - 1BR/1B  Entire home/apt   \n",
       "1                                    Creative Sanctuary  Entire home/apt   \n",
       "2            A Friendly Room - UCSF/USF - San Francisco     Private room   \n",
       "3     Friendly Room Apt. Style -UCSF/USF - San Franc...     Private room   \n",
       "4                       Historic Alamo Square Victorian  Entire home/apt   \n",
       "...                                                 ...              ...   \n",
       "8133    San Francisco Home in the Heart of Lower Haight  Entire home/apt   \n",
       "8134  UP to 10 First Responders WANTED for 3 LEVELS ...  Entire home/apt   \n",
       "8135                          Furnished 3 bedroom house  Entire home/apt   \n",
       "8136  Beautiful Room Near Ghirardelli Square for Sublet     Private room   \n",
       "8137  Stylish Apartment by Beach for Longer Term Rental  Entire home/apt   \n",
       "\n",
       "      price  minimum_nights  calculated_host_listings_count  availability_365  \n",
       "0       170               1                               1               106  \n",
       "1       235              30                               1                 0  \n",
       "2        65              32                               9               365  \n",
       "3        65              32                               9               365  \n",
       "4       703               5                               2               365  \n",
       "...     ...             ...                             ...               ...  \n",
       "8133    112              30                               1               173  \n",
       "8134    269              30                               4                90  \n",
       "8135    375              30                               2               310  \n",
       "8136     86              30                               1                84  \n",
       "8137    159              30                               1               177  \n",
       "\n",
       "[8138 rows x 6 columns]"
      ]
     },
     "execution_count": 2,
     "metadata": {},
     "output_type": "execute_result"
    }
   ],
   "source": [
    "sf = pd.read_csv('../Data/AB_SF_2020.csv')\n",
    "sf = sf.drop(columns=['id', 'host_id', 'host_name'])\n",
    "sf = sf.drop(columns=['neighbourhood_group', 'neighbourhood', 'latitude', 'longitude'])\n",
    "sf = sf.drop(columns=['number_of_reviews', 'last_review', 'reviews_per_month'])\n",
    "sf"
   ]
  },
  {
   "cell_type": "markdown",
   "metadata": {
    "slideshow": {
     "slide_type": "slide"
    }
   },
   "source": [
    "## Creating Classes"
   ]
  },
  {
   "cell_type": "code",
   "execution_count": 3,
   "metadata": {
    "slideshow": {
     "slide_type": "fragment"
    }
   },
   "outputs": [
    {
     "data": {
      "text/plain": [
       "<matplotlib.axes._subplots.AxesSubplot at 0x1a1e41e5d0>"
      ]
     },
     "execution_count": 3,
     "metadata": {},
     "output_type": "execute_result"
    },
    {
     "data": {
      "image/png": "[encoded data removed]",
      "text/plain": [
       "<Figure size 432x288 with 1 Axes>"
      ]
     },
     "metadata": {
      "needs_background": "light"
     },
     "output_type": "display_data"
    }
   ],
   "source": [
    "def price_class(val):\n",
    "    \"\"\"Determins what class a listing should be given\"\"\"\n",
    "    if val <= 120:\n",
    "        return 0\n",
    "    elif val > 120 and val <= 240:\n",
    "        return 1\n",
    "    elif val > 240:\n",
    "        return 2\n",
    "\n",
    "\n",
    "sf['price'] = sf['price'].apply(lambda x: price_class(x))\n",
    "sf[sf['price']<360]['price'].hist()"
   ]
  },
  {
   "cell_type": "markdown",
   "metadata": {
    "slideshow": {
     "slide_type": "slide"
    }
   },
   "source": [
    "## Data Preprocessing/Feature Extraction"
   ]
  },
  {
   "cell_type": "markdown",
   "metadata": {
    "slideshow": {
     "slide_type": "subslide"
    }
   },
   "source": [
    "### Name Length"
   ]
  },
  {
   "cell_type": "code",
   "execution_count": 4,
   "metadata": {
    "slideshow": {
     "slide_type": "fragment"
    }
   },
   "outputs": [
    {
     "data": {
      "text/plain": [
       "<matplotlib.axes._subplots.AxesSubplot at 0x1a1d2c4350>"
      ]
     },
     "execution_count": 4,
     "metadata": {},
     "output_type": "execute_result"
    },
    {
     "data": {
      "image/png": "[encoded data removed]",
      "text/plain": [
       "<Figure size 432x288 with 1 Axes>"
      ]
     },
     "metadata": {
      "needs_background": "light"
     },
     "output_type": "display_data"
    }
   ],
   "source": [
    "sf['name_length'] = sf['name'].map(str).apply(len)\n",
    "sf['name_length'] = sf['name_length'].apply(lambda x: 60 if x > 60 else x)\n",
    "sf = sf.drop(columns=['name'])\n",
    "\n",
    "sf['name_length'].hist()"
   ]
  },
  {
   "cell_type": "markdown",
   "metadata": {
    "slideshow": {
     "slide_type": "subslide"
    }
   },
   "source": [
    "### Room Type"
   ]
  },
  {
   "cell_type": "code",
   "execution_count": 5,
   "metadata": {
    "slideshow": {
     "slide_type": "skip"
    }
   },
   "outputs": [],
   "source": [
    "# room_to_num = {room:index for index, room in enumerate(sf['room_type'].unique())}\n",
    "# sf['room_type'] = sf['room_type'].apply(lambda x: room_to_num[x])\n",
    "# sf['room_type'].hist()"
   ]
  },
  {
   "cell_type": "code",
   "execution_count": 6,
   "metadata": {
    "slideshow": {
     "slide_type": "fragment"
    }
   },
   "outputs": [
    {
     "data": {
      "text/plain": [
       "(array([2906.,    0.,    0.,    0.,    0., 4882.,    0.,    0.,    0.,\n",
       "         263.]),\n",
       " array([0. , 0.2, 0.4, 0.6, 0.8, 1. , 1.2, 1.4, 1.6, 1.8, 2. ]),\n",
       " <a list of 10 Patch objects>)"
      ]
     },
     "execution_count": 6,
     "metadata": {},
     "output_type": "execute_result"
    },
    {
     "data": {
      "image/png": "[encoded data removed]",
      "text/plain": [
       "<Figure size 432x288 with 1 Axes>"
      ]
     },
     "metadata": {
      "needs_background": "light"
     },
     "output_type": "display_data"
    }
   ],
   "source": [
    "sf['rm_private'] = sf['room_type'].apply(lambda x: 0 if x != 'Private room' else 1)\n",
    "sf['rm_entire'] = sf['room_type'].apply(lambda x: 0 if x != 'Entire home/apt' else 1)\n",
    "sf['rm_shared'] = sf['room_type'].apply(lambda x: 0 if x != 'Shared room' else 1)\n",
    "sf = sf.drop(columns=['room_type'])\n",
    "\n",
    "sums = [sf['rm_private'].sum(), sf['rm_entire'].sum(), sf['rm_shared'].sum()]\n",
    "plt.hist(x=['Private Room', 'Entire home/apt', 'Shared room'], weights=sums)"
   ]
  },
  {
   "cell_type": "markdown",
   "metadata": {
    "slideshow": {
     "slide_type": "subslide"
    }
   },
   "source": [
    "### Minimum Nights"
   ]
  },
  {
   "cell_type": "code",
   "execution_count": 7,
   "metadata": {
    "slideshow": {
     "slide_type": "fragment"
    }
   },
   "outputs": [
    {
     "name": "stdout",
     "output_type": "stream",
     "text": [
      "Min Value 1\n",
      "Max Value 100000000\n"
     ]
    },
    {
     "data": {
      "text/plain": [
       "<matplotlib.axes._subplots.AxesSubplot at 0x1a1daf6490>"
      ]
     },
     "execution_count": 7,
     "metadata": {},
     "output_type": "execute_result"
    },
    {
     "data": {
      "image/png": "[encoded data removed]",
      "text/plain": [
       "<Figure size 432x288 with 1 Axes>"
      ]
     },
     "metadata": {
      "needs_background": "light"
     },
     "output_type": "display_data"
    }
   ],
   "source": [
    "print('Min Value', sf['minimum_nights'].min())\n",
    "print('Max Value', sf[\"minimum_nights\"].max())\n",
    "\n",
    "sf['minimum_nights'] = sf['minimum_nights'].apply(lambda x: 50 if x > 50 else x)\n",
    "sf['minimum_nights'].hist()"
   ]
  },
  {
   "cell_type": "markdown",
   "metadata": {
    "slideshow": {
     "slide_type": "subslide"
    }
   },
   "source": [
    "### Calculated Host Listings Count"
   ]
  },
  {
   "cell_type": "code",
   "execution_count": 8,
   "metadata": {
    "slideshow": {
     "slide_type": "fragment"
    }
   },
   "outputs": [
    {
     "data": {
      "text/plain": [
       "<matplotlib.axes._subplots.AxesSubplot at 0x1a1dd54250>"
      ]
     },
     "execution_count": 8,
     "metadata": {},
     "output_type": "execute_result"
    },
    {
     "data": {
      "image/png": "[encoded data removed]",
      "text/plain": [
       "<Figure size 432x288 with 1 Axes>"
      ]
     },
     "metadata": {
      "needs_background": "light"
     },
     "output_type": "display_data"
    }
   ],
   "source": [
    "sf['calculated_host_listings_count'] = sf['calculated_host_listings_count'].apply(lambda x: 50 if x > 50 else x)\n",
    "sf['calculated_host_listings_count'].hist()"
   ]
  },
  {
   "cell_type": "markdown",
   "metadata": {
    "slideshow": {
     "slide_type": "subslide"
    }
   },
   "source": [
    "### Availability 365"
   ]
  },
  {
   "cell_type": "code",
   "execution_count": 9,
   "metadata": {
    "slideshow": {
     "slide_type": "fragment"
    }
   },
   "outputs": [
    {
     "data": {
      "text/plain": [
       "<matplotlib.axes._subplots.AxesSubplot at 0x1a1de31ad0>"
      ]
     },
     "execution_count": 9,
     "metadata": {},
     "output_type": "execute_result"
    },
    {
     "data": {
      "image/png": "[encoded data removed]",
      "text/plain": [
       "<Figure size 432x288 with 1 Axes>"
      ]
     },
     "metadata": {
      "needs_background": "light"
     },
     "output_type": "display_data"
    }
   ],
   "source": [
    "sf['availability_365'].hist()"
   ]
  },
  {
   "cell_type": "markdown",
   "metadata": {
    "slideshow": {
     "slide_type": "slide"
    }
   },
   "source": [
    "## Feature Selection"
   ]
  },
  {
   "cell_type": "markdown",
   "metadata": {
    "slideshow": {
     "slide_type": "subslide"
    }
   },
   "source": [
    "### Feature Correlation"
   ]
  },
  {
   "cell_type": "code",
   "execution_count": 10,
   "metadata": {
    "slideshow": {
     "slide_type": "fragment"
    }
   },
   "outputs": [
    {
     "data": {
      "text/plain": [
       "<matplotlib.axes._subplots.AxesSubplot at 0x1a1dfca290>"
      ]
     },
     "execution_count": 10,
     "metadata": {},
     "output_type": "execute_result"
    },
    {
     "data": {
      "image/png": "[encoded data removed]",
      "text/plain": [
       "<Figure size 432x288 with 2 Axes>"
      ]
     },
     "metadata": {
      "needs_background": "light"
     },
     "output_type": "display_data"
    }
   ],
   "source": [
    "sns.heatmap(sf.corr())"
   ]
  },
  {
   "cell_type": "markdown",
   "metadata": {
    "slideshow": {
     "slide_type": "subslide"
    }
   },
   "source": [
    "### Feature Importance"
   ]
  },
  {
   "cell_type": "code",
   "execution_count": 11,
   "metadata": {
    "scrolled": true,
    "slideshow": {
     "slide_type": "fragment"
    }
   },
   "outputs": [
    {
     "data": {
      "text/plain": [
       "<matplotlib.axes._subplots.AxesSubplot at 0x1a1e08a790>"
      ]
     },
     "execution_count": 11,
     "metadata": {},
     "output_type": "execute_result"
    },
    {
     "data": {
      "image/png": "[encoded data removed]",
      "text/plain": [
       "<Figure size 432x288 with 1 Axes>"
      ]
     },
     "metadata": {
      "needs_background": "light"
     },
     "output_type": "display_data"
    }
   ],
   "source": [
    "tree_reg = DecisionTreeClassifier()\n",
    "tree_reg.fit(sf.drop(columns=['price']), sf['price'])\n",
    "\n",
    "feature_imp = pd.Series(tree_reg.feature_importances_,index=sf.drop(columns=['price']).columns).sort_values(ascending=False)\n",
    "%matplotlib inline\n",
    "sns.barplot(x=feature_imp, y=feature_imp.index)"
   ]
  },
  {
   "cell_type": "markdown",
   "metadata": {
    "slideshow": {
     "slide_type": "subslide"
    }
   },
   "source": [
    "### Selecting Features and Splitting Data"
   ]
  },
  {
   "cell_type": "code",
   "execution_count": 12,
   "metadata": {
    "slideshow": {
     "slide_type": "fragment"
    }
   },
   "outputs": [],
   "source": [
    "sf = sf.drop(columns=['rm_shared', 'rm_private'])\n",
    "\n",
    "X, y = sf.drop(columns=['price']), sf['price']\n",
    "\n",
    "scaler = StandardScaler()\n",
    "X = scaler.fit_transform(X)\n",
    "\n",
    "pca = PCA(n_components=2)\n",
    "X_r = pca.fit_transform(X)\n",
    "\n",
    "X_r_train, X_r_test, y_train, y_test = train_test_split(X_r, y, test_size=0.20, random_state=0)\n",
    "X_train, X_test, y_train, y_test = train_test_split(X, y, test_size=0.20, random_state=0)"
   ]
  },
  {
   "cell_type": "markdown",
   "metadata": {
    "slideshow": {
     "slide_type": "slide"
    }
   },
   "source": [
    "## Model Selection"
   ]
  },
  {
   "cell_type": "markdown",
   "metadata": {
    "slideshow": {
     "slide_type": "subslide"
    }
   },
   "source": [
    "### Decision Tree Classifier"
   ]
  },
  {
   "cell_type": "code",
   "execution_count": 13,
   "metadata": {
    "slideshow": {
     "slide_type": "subslide"
    }
   },
   "outputs": [
    {
     "name": "stdout",
     "output_type": "stream",
     "text": [
      "0.6204301075268818\n",
      "F1 Score 0.6124078624078624\n",
      "Mean F1 Score 0.6124266163284569\n",
      "Accuracy 0.6124078624078624\n",
      "Mean Accuracy 0.6124266163284569\n"
     ]
    }
   ],
   "source": [
    "# Without PCA\n",
    "tree_class = DecisionTreeClassifier(max_depth=5)\n",
    "tree_class.fit(X_train, y_train)\n",
    "\n",
    "tree_pred = tree_class.predict(X_test)\n",
    "tree_f1_score = f1_score(y_test, tree_pred, average='micro')\n",
    "tree_all_f1 = cross_val_score(estimator=tree_class, X=tree_pred.reshape(-1, 1), y=y_test, cv=5)\n",
    "tree_accuracy = accuracy_score(y_test, tree_pred)\n",
    "tree_all_accuracy = cross_val_score(estimator=tree_class, X=tree_pred.reshape(-1, 1), y=y_test, cv=5, scoring='accuracy')\n",
    "\n",
    "print(tree_class.score(X_train, y_train))\n",
    "print('F1 Score', tree_f1_score)\n",
    "print('Mean F1 Score', tree_all_f1.mean())\n",
    "print('Accuracy', tree_accuracy)\n",
    "print('Mean Accuracy', tree_all_accuracy.mean())"
   ]
  },
  {
   "cell_type": "code",
   "execution_count": 14,
   "metadata": {
    "slideshow": {
     "slide_type": "subslide"
    }
   },
   "outputs": [
    {
     "name": "stdout",
     "output_type": "stream",
     "text": [
      "0.4302611367127496\n",
      "F1 Score 0.4201474201474201\n",
      "Mean F1 Score 0.42015667767815\n",
      "Accuracy 0.4201474201474201\n",
      "Mean Accuracy 0.42015667767815\n"
     ]
    }
   ],
   "source": [
    "# With PCA\n",
    "tree_r_class = DecisionTreeClassifier(max_depth=2)\n",
    "tree_r_class.fit(X_r_train, y_train)\n",
    "\n",
    "tree_r_pred = tree_r_class.predict(X_r_test)\n",
    "tree_r_f1_score = f1_score(y_test, tree_r_pred, average='micro')\n",
    "tree_r_all_f1 = cross_val_score(estimator=tree_r_class, X=tree_r_pred.reshape(-1, 1), y=y_test, cv=5)\n",
    "tree_r_accuracy = accuracy_score(y_test, tree_r_pred)\n",
    "tree_r_all_accuracy = cross_val_score(estimator=tree_r_class, X=tree_r_pred.reshape(-1, 1), y=y_test, cv=5, scoring='accuracy')\n",
    "\n",
    "print(tree_r_class.score(X_r_train, y_train))\n",
    "print('F1 Score', tree_r_f1_score)\n",
    "print('Mean F1 Score', tree_r_all_f1.mean())\n",
    "print('Accuracy', tree_r_accuracy)\n",
    "print('Mean Accuracy', tree_r_all_accuracy.mean())"
   ]
  },
  {
   "cell_type": "markdown",
   "metadata": {
    "slideshow": {
     "slide_type": "subslide"
    }
   },
   "source": [
    "### Logistic Regressor"
   ]
  },
  {
   "cell_type": "code",
   "execution_count": 15,
   "metadata": {
    "slideshow": {
     "slide_type": "subslide"
    }
   },
   "outputs": [
    {
     "name": "stdout",
     "output_type": "stream",
     "text": [
      "0.581874039938556\n",
      "F1 Score 0.5804668304668305\n",
      "Mean F1 Score 0.5804832468145351\n",
      "Accuracy 0.6124078624078624\n",
      "Mean Accuracy 0.5804832468145351\n"
     ]
    }
   ],
   "source": [
    "# Without PCA\n",
    "log_class = LogisticRegression(solver='sag', multi_class='auto', max_iter=8000)\n",
    "log_class.fit(X_train, y_train)\n",
    "\n",
    "log_pred = log_class.predict(X_test)\n",
    "log_f1 = f1_score(y_test, log_pred, average='micro')\n",
    "log_all_f1 = cross_val_score(estimator=log_class, X=log_pred.reshape(-1, 1), y=y_test, cv=5)\n",
    "log_accuracy = accuracy_score(y_test, tree_pred)\n",
    "log_all_accuracy = cross_val_score(estimator=log_class, X=log_pred.reshape(-1, 1), y=y_test, cv=5, scoring='accuracy')\n",
    "\n",
    "print(log_class.score(X_train, y_train))\n",
    "print('F1 Score', log_f1)\n",
    "print('Mean F1 Score', log_all_f1.mean())\n",
    "print('Accuracy', log_accuracy)\n",
    "print('Mean Accuracy', log_all_accuracy.mean())"
   ]
  },
  {
   "cell_type": "code",
   "execution_count": 16,
   "metadata": {
    "slideshow": {
     "slide_type": "subslide"
    }
   },
   "outputs": [
    {
     "name": "stdout",
     "output_type": "stream",
     "text": [
      "0.4302611367127496\n",
      "F1 Score 0.4201474201474201\n",
      "Mean F1 Score 0.42015667767815\n",
      "Accuracy 0.4201474201474201\n",
      "Mean Accuracy 0.42015667767815\n"
     ]
    }
   ],
   "source": [
    "# With PCA\n",
    "log_r_class = LogisticRegression(solver='sag', multi_class='auto', max_iter=8000)\n",
    "log_r_class.fit(X_r_train, y_train)\n",
    "\n",
    "log_r_pred = log_r_class.predict(X_r_test)\n",
    "log_r_f1_score = f1_score(y_test, log_r_pred, average='micro')\n",
    "log_r_all_f1 = cross_val_score(estimator=log_r_class, X=log_r_pred.reshape(-1, 1), y=y_test, cv=5)\n",
    "log_r_accuracy = accuracy_score(y_test, tree_r_pred)\n",
    "log_r_all_accuracy = cross_val_score(estimator=log_r_class, X=log_r_pred.reshape(-1, 1), y=y_test, cv=5, scoring='accuracy')\n",
    "\n",
    "print(tree_r_class.score(X_r_train, y_train))\n",
    "print('F1 Score', tree_r_f1_score)\n",
    "print('Mean F1 Score', tree_r_all_f1.mean())\n",
    "print('Accuracy', tree_r_accuracy)\n",
    "print('Mean Accuracy', tree_r_all_accuracy.mean())"
   ]
  },
  {
   "cell_type": "markdown",
   "metadata": {
    "slideshow": {
     "slide_type": "subslide"
    }
   },
   "source": [
    "### Suport Vector Classifier"
   ]
  },
  {
   "cell_type": "code",
   "execution_count": 17,
   "metadata": {
    "slideshow": {
     "slide_type": "subslide"
    }
   },
   "outputs": [
    {
     "name": "stdout",
     "output_type": "stream",
     "text": [
      "0.6129032258064516\n",
      "F1 Score 0.605036855036855\n",
      "Mean F1 Score 0.6050438886267107\n",
      "Accuracy 0.605036855036855\n",
      "Mean Accuracy 0.6050438886267107\n"
     ]
    }
   ],
   "source": [
    "# Without PCA\n",
    "sv_class = SVC(gamma='auto')\n",
    "sv_class.fit(X_train, y_train)\n",
    "\n",
    "sv_pred = sv_class.predict(X_test)\n",
    "sv_f1 = f1_score(y_test, sv_pred, average='micro')\n",
    "sv_all_f1 = cross_val_score(estimator=sv_class, X=sv_pred.reshape(-1, 1), y=y_test, cv=5)\n",
    "sv_accuracy = accuracy_score(y_test, sv_pred)\n",
    "sv_all_accuracy = cross_val_score(estimator=sv_class, X=sv_pred.reshape(-1, 1), y=y_test, cv=5, scoring='accuracy')\n",
    "\n",
    "print(sv_class.score(X_train, y_train))\n",
    "print('F1 Score', sv_f1)\n",
    "print('Mean F1 Score', sv_all_f1.mean())\n",
    "print('Accuracy', sv_accuracy)\n",
    "print('Mean Accuracy', sv_all_accuracy.mean())"
   ]
  },
  {
   "cell_type": "code",
   "execution_count": 18,
   "metadata": {
    "slideshow": {
     "slide_type": "subslide"
    }
   },
   "outputs": [
    {
     "name": "stdout",
     "output_type": "stream",
     "text": [
      "0.46897081413210445\n",
      "F1 Score 0.4477886977886978\n",
      "Mean F1 Score 0.44286550259556395\n",
      "Accuracy 0.4477886977886978\n",
      "Mean Accuracy 0.44286550259556395\n"
     ]
    }
   ],
   "source": [
    "# With PCA\n",
    "sv_r_class = SVC(gamma='auto')\n",
    "sv_r_class.fit(X_r_train, y_train)\n",
    "\n",
    "sv_r_pred = sv_r_class.predict(X_r_test)\n",
    "sv_r_f1 = f1_score(y_test, sv_r_pred, average='micro')\n",
    "sv_r_all_f1 = cross_val_score(estimator=sv_r_class, X=sv_r_pred.reshape(-1, 1), y=y_test, cv=5)\n",
    "sv_r_accuracy = accuracy_score(y_test, sv_r_pred)\n",
    "sv_r_all_accuracy = cross_val_score(estimator=sv_r_class, X=sv_r_pred.reshape(-1, 1), y=y_test, cv=5, scoring='accuracy')\n",
    "\n",
    "print(sv_r_class.score(X_r_train, y_train))\n",
    "print('F1 Score', sv_r_f1)\n",
    "print('Mean F1 Score', sv_r_all_f1.mean())\n",
    "print('Accuracy', sv_r_accuracy)\n",
    "print('Mean Accuracy', sv_r_all_accuracy.mean())"
   ]
  },
  {
   "cell_type": "markdown",
   "metadata": {
    "slideshow": {
     "slide_type": "subslide"
    }
   },
   "source": [
    "### Random Forest Classifier"
   ]
  },
  {
   "cell_type": "code",
   "execution_count": 19,
   "metadata": {
    "slideshow": {
     "slide_type": "subslide"
    }
   },
   "outputs": [
    {
     "name": "stdout",
     "output_type": "stream",
     "text": [
      "0.9466973886328724\n",
      "F1 Score 0.6007371007371007\n",
      "Mean F1 Score 0.6007588485134497\n",
      "Accuracy 0.6007371007371007\n",
      "Mean Accuracy 0.6007588485134497\n"
     ]
    }
   ],
   "source": [
    "# Without PCA\n",
    "forest_class = RandomForestClassifier()\n",
    "forest_class.fit(X_train, y_train)\n",
    "\n",
    "forest_pred = forest_class.predict(X_test)\n",
    "forest_f1 = f1_score(y_test, forest_pred, average='micro')\n",
    "forest_all_f1 = cross_val_score(estimator=forest_class, X=forest_pred.reshape(-1, 1), y=y_test, cv=5)\n",
    "forest_accuracy = accuracy_score(y_test, forest_pred)\n",
    "forest_all_accuracy = cross_val_score(estimator=forest_class, X=forest_pred.reshape(-1, 1), y=y_test, cv=5, scoring='accuracy')\n",
    "\n",
    "print(forest_class.score(X_train, y_train))\n",
    "print('F1 Score', forest_f1)\n",
    "print('Mean F1 Score', forest_all_f1.mean())\n",
    "print('Accuracy', forest_accuracy)\n",
    "print('Mean Accuracy', forest_all_accuracy.mean())"
   ]
  },
  {
   "cell_type": "code",
   "execution_count": 20,
   "metadata": {
    "slideshow": {
     "slide_type": "subslide"
    }
   },
   "outputs": [
    {
     "name": "stdout",
     "output_type": "stream",
     "text": [
      "0.9241167434715822\n",
      "F1 Score 0.4907862407862408\n",
      "Mean F1 Score 0.49079377064653135\n",
      "Accuracy 0.4907862407862408\n",
      "Mean Accuracy 0.49079377064653135\n"
     ]
    }
   ],
   "source": [
    "# With PCA\n",
    "forest_r_class = RandomForestClassifier(n_estimators=10)\n",
    "forest_r_class.fit(X_r_train, y_train)\n",
    "\n",
    "forest_r_pred = forest_r_class.predict(X_r_test)\n",
    "forest_r_f1 = f1_score(y_test, forest_r_pred, average='micro')\n",
    "forest_r_all_f1 = cross_val_score(estimator=forest_r_class, X=forest_r_pred.reshape(-1, 1), y=y_test, cv=5)\n",
    "forest_r_accuracy = accuracy_score(y_test, forest_r_pred)\n",
    "forest_r_all_accuracy = cross_val_score(estimator=forest_r_class, X=forest_r_pred.reshape(-1, 1), y=y_test, cv=5, scoring='accuracy')\n",
    "\n",
    "print(forest_r_class.score(X_r_train, y_train))\n",
    "print('F1 Score', forest_r_f1)\n",
    "print('Mean F1 Score', forest_r_all_f1.mean())\n",
    "print('Accuracy', forest_r_accuracy)\n",
    "print('Mean Accuracy', forest_r_all_accuracy.mean())"
   ]
  },
  {
   "cell_type": "markdown",
   "metadata": {
    "slideshow": {
     "slide_type": "slide"
    }
   },
   "source": [
    "### Results"
   ]
  },
  {
   "cell_type": "code",
   "execution_count": 21,
   "metadata": {
    "slideshow": {
     "slide_type": "skip"
    }
   },
   "outputs": [],
   "source": [
    "f1_scores = [tree_all_accuracy.mean(), log_all_accuracy.mean(), sv_all_accuracy.mean(), forest_all_accuracy.mean()]\n",
    "training_scores = [ tree_class.score(X_train, y_train), log_class.score(X_train, y_train), sv_class.score(X_train, y_train), forest_class.score(X_train, y_train)]\n",
    "labels = ['Tree', 'Logistic', 'Support Vector', 'Random Forest']"
   ]
  },
  {
   "cell_type": "code",
   "execution_count": 22,
   "metadata": {
    "slideshow": {
     "slide_type": "fragment"
    }
   },
   "outputs": [
    {
     "data": {
      "text/plain": [
       "<BarContainer object of 4 artists>"
      ]
     },
     "execution_count": 22,
     "metadata": {},
     "output_type": "execute_result"
    },
    {
     "data": {
      "image/png": "[encoded data removed]",
      "text/plain": [
       "<Figure size 1080x360 with 2 Axes>"
      ]
     },
     "metadata": {
      "needs_background": "light"
     },
     "output_type": "display_data"
    }
   ],
   "source": [
    "fig, axes = plt.subplots(nrows=1, ncols=2, figsize=(15, 5))\n",
    "axes[0].bar(labels, f1_scores, color='#f55e61')\n",
    "axes[1].bar(labels, training_scores, color='#f55e61')"
   ]
  },
  {
   "cell_type": "code",
   "execution_count": null,
   "metadata": {
    "slideshow": {
     "slide_type": "skip"
    }
   },
   "outputs": [],
   "source": []
  }
 ],
 "metadata": {
  "celltoolbar": "Slideshow",
  "kernelspec": {
   "display_name": "Python 3",
   "language": "python",
   "name": "python3"
  },
  "language_info": {
   "codemirror_mode": {
    "name": "ipython",
    "version": 3
   },
   "file_extension": ".py",
   "mimetype": "text/x-python",
   "name": "python",
   "nbconvert_exporter": "python",
   "pygments_lexer": "ipython3",
   "version": "3.7.6"
  }
 },
 "nbformat": 4,
 "nbformat_minor": 2
}
