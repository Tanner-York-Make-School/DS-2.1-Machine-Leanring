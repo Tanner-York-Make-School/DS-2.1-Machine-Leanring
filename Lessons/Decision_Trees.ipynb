{
 "cells": [
  {
   "cell_type": "markdown",
   "metadata": {},
   "source": [
    "# Decision Trees\n",
    "- Decision Trees are considered one of the most mature, traditional, algorithms in predictive analytics\n",
    "- They are typically used to solve classification problems through visual and explicit representations of decisions and decision making.\n",
    "- Think of them like a map where you follow each path according to your decision, and each path leads to a new choice to make until you reach the end.\n",
    "- They mimic the way you probably make decisions in your daily life:\n",
    "\n",
    "### Terminology \n",
    "- **Root:** Our starting point for the tree. Note that a decision tree is drawn upside down since its root is at the top\n",
    "- **Branch:** Also known as an edge, these lead from condition to condition, down to the results\n",
    "- **Condition:** Also known as an internal node, this is the choice that needs to be made in order to figure out which branch to take.\n",
    "- **Leaf:** Also known as a decision, these are the final results that signify the classification of the data. There are no branches coming out of a leaf, only going in to it.\n"
   ]
  },
  {
   "cell_type": "markdown",
   "metadata": {},
   "source": [
    "### Why and when do we need Decision Trees?¶\n",
    "- When features are Categorical\n",
    "    - When we can classify data into known groups\n",
    "- When we want to model a set of sequential, hierarchical decisions that lead to some final result. This result is the known group that the data point would be categorized into\n",
    "- When we need to explain the reason for a particular decision\n",
    "\n",
    "#### Example use cases:\n",
    "- Sales and marketing departments might need a complete description of rules that influence the acquisition of a customer before they start their campaign activities\n",
    "- Product planning (do we build this product or not?)\n",
    "- Determining someone is a good or bad level of risk"
   ]
  },
  {
   "cell_type": "markdown",
   "metadata": {},
   "source": [
    "### What do we use to obtain the root node?\n",
    "- Conditional Probability\n",
    "- Entropy\n",
    "- Information Gain"
   ]
  },
  {
   "cell_type": "markdown",
   "metadata": {},
   "source": [
    "## Decision Trees are based on Entropy\n",
    "### Activity: Calculate the entropy for a coin\n",
    "- Entropy shows the uncertainy of a random variable. The higher the entropy value, the more unncertain we are. Entropy is displayed as $H(X)$, where $X$ is a random variable\n",
    "- The Entropy formula is the summation of probabilities multiplied by the log of probabilities:"
   ]
  },
  {
   "cell_type": "markdown",
   "metadata": {},
   "source": [
    "### Entropy of coin\n",
    "\n",
    "$H(Coin) = \\sum -p(outcome) * log_2(p(outcome)$\n",
    "Entropy of a fair coin\n",
    "for p(outcome) in [p(H)=0.5, p(T)=0.5]):\n",
    "\n",
    "$H(Coin) = \\sum -p(outcome) * log_2(p(outcome)$\n",
    "\n",
    "Do the following in pairs:\n",
    "- Create a function entropy that takes an array of probabilities as input, and returns the entropy using the formula above\n",
    "    - numpy's array, log2, and sum functions should be useful here\n",
    "- Show that the fair coin has the largest entropy (uncertainty) by trying different values for the probability of heads and tails\n",
    "    - i.e. show that a fair coin [.5, .5] has a larger entropy than a coin with [.9, .1] probabilities"
   ]
  },
  {
   "cell_type": "code",
   "execution_count": 1,
   "metadata": {},
   "outputs": [
    {
     "name": "stdout",
     "output_type": "stream",
     "text": [
      "[0.5 0.5]\n",
      "[0.13680278 0.33219281]\n"
     ]
    }
   ],
   "source": [
    "import numpy as np\n",
    "\n",
    "def entropy(prob_arr):\n",
    "    H = np.array([-i*np.log2(i) for i in prob_arr])\n",
    "    return H\n",
    "\n",
    "print(entropy([.5, .5]))\n",
    "print(entropy([.9, .1]))"
   ]
  },
  {
   "cell_type": "markdown",
   "metadata": {},
   "source": [
    "## Let's build a Decision Tree for the Tennis Data\n",
    "\n",
    "### Activity: Obtain the following quantitites:\n",
    "- entropy for outcome\n",
    "- entropy for outcome based on weak wind\n",
    "- entropy for outcome based on strong wind"
   ]
  },
  {
   "cell_type": "code",
   "execution_count": 2,
   "metadata": {
    "scrolled": true
   },
   "outputs": [
    {
     "data": {
      "text/html": [
       "<div>\n",
       "<style scoped>\n",
       "    .dataframe tbody tr th:only-of-type {\n",
       "        vertical-align: middle;\n",
       "    }\n",
       "\n",
       "    .dataframe tbody tr th {\n",
       "        vertical-align: top;\n",
       "    }\n",
       "\n",
       "    .dataframe thead th {\n",
       "        text-align: right;\n",
       "    }\n",
       "</style>\n",
       "<table border=\"1\" class=\"dataframe\">\n",
       "  <thead>\n",
       "    <tr style=\"text-align: right;\">\n",
       "      <th></th>\n",
       "      <th>Day</th>\n",
       "      <th>Outlook</th>\n",
       "      <th>Temperature</th>\n",
       "      <th>Humidity</th>\n",
       "      <th>Wind</th>\n",
       "      <th>Decision</th>\n",
       "    </tr>\n",
       "  </thead>\n",
       "  <tbody>\n",
       "    <tr>\n",
       "      <th>0</th>\n",
       "      <td>1</td>\n",
       "      <td>Sunny</td>\n",
       "      <td>Hot</td>\n",
       "      <td>High</td>\n",
       "      <td>Weak</td>\n",
       "      <td>No</td>\n",
       "    </tr>\n",
       "    <tr>\n",
       "      <th>1</th>\n",
       "      <td>2</td>\n",
       "      <td>Sunny</td>\n",
       "      <td>Hot</td>\n",
       "      <td>High</td>\n",
       "      <td>Strong</td>\n",
       "      <td>No</td>\n",
       "    </tr>\n",
       "    <tr>\n",
       "      <th>2</th>\n",
       "      <td>3</td>\n",
       "      <td>Overcast</td>\n",
       "      <td>Hot</td>\n",
       "      <td>High</td>\n",
       "      <td>Weak</td>\n",
       "      <td>Yes</td>\n",
       "    </tr>\n",
       "    <tr>\n",
       "      <th>3</th>\n",
       "      <td>4</td>\n",
       "      <td>Rain</td>\n",
       "      <td>Mild</td>\n",
       "      <td>High</td>\n",
       "      <td>Weak</td>\n",
       "      <td>Yes</td>\n",
       "    </tr>\n",
       "    <tr>\n",
       "      <th>4</th>\n",
       "      <td>5</td>\n",
       "      <td>Rain</td>\n",
       "      <td>Cool</td>\n",
       "      <td>Normal</td>\n",
       "      <td>Weak</td>\n",
       "      <td>Yes</td>\n",
       "    </tr>\n",
       "    <tr>\n",
       "      <th>5</th>\n",
       "      <td>6</td>\n",
       "      <td>Rain</td>\n",
       "      <td>Cool</td>\n",
       "      <td>Normal</td>\n",
       "      <td>Strong</td>\n",
       "      <td>No</td>\n",
       "    </tr>\n",
       "    <tr>\n",
       "      <th>6</th>\n",
       "      <td>7</td>\n",
       "      <td>Overcast</td>\n",
       "      <td>Cool</td>\n",
       "      <td>Normal</td>\n",
       "      <td>Strong</td>\n",
       "      <td>Yes</td>\n",
       "    </tr>\n",
       "    <tr>\n",
       "      <th>7</th>\n",
       "      <td>8</td>\n",
       "      <td>Sunny</td>\n",
       "      <td>Mild</td>\n",
       "      <td>High</td>\n",
       "      <td>Weak</td>\n",
       "      <td>No</td>\n",
       "    </tr>\n",
       "    <tr>\n",
       "      <th>8</th>\n",
       "      <td>9</td>\n",
       "      <td>Sunny</td>\n",
       "      <td>Cool</td>\n",
       "      <td>Normal</td>\n",
       "      <td>Weak</td>\n",
       "      <td>Yes</td>\n",
       "    </tr>\n",
       "    <tr>\n",
       "      <th>9</th>\n",
       "      <td>10</td>\n",
       "      <td>Rain</td>\n",
       "      <td>Mild</td>\n",
       "      <td>Normal</td>\n",
       "      <td>Weak</td>\n",
       "      <td>Yes</td>\n",
       "    </tr>\n",
       "    <tr>\n",
       "      <th>10</th>\n",
       "      <td>11</td>\n",
       "      <td>Sunny</td>\n",
       "      <td>Mild</td>\n",
       "      <td>Normal</td>\n",
       "      <td>Strong</td>\n",
       "      <td>Yes</td>\n",
       "    </tr>\n",
       "    <tr>\n",
       "      <th>11</th>\n",
       "      <td>12</td>\n",
       "      <td>Overcast</td>\n",
       "      <td>Mild</td>\n",
       "      <td>High</td>\n",
       "      <td>Strong</td>\n",
       "      <td>Yes</td>\n",
       "    </tr>\n",
       "    <tr>\n",
       "      <th>12</th>\n",
       "      <td>13</td>\n",
       "      <td>Overcast</td>\n",
       "      <td>Hot</td>\n",
       "      <td>Normal</td>\n",
       "      <td>Weak</td>\n",
       "      <td>Yes</td>\n",
       "    </tr>\n",
       "    <tr>\n",
       "      <th>13</th>\n",
       "      <td>14</td>\n",
       "      <td>Rain</td>\n",
       "      <td>Mild</td>\n",
       "      <td>High</td>\n",
       "      <td>Strong</td>\n",
       "      <td>No</td>\n",
       "    </tr>\n",
       "  </tbody>\n",
       "</table>\n",
       "</div>"
      ],
      "text/plain": [
       "    Day   Outlook Temperature Humidity    Wind Decision\n",
       "0     1     Sunny         Hot     High    Weak       No\n",
       "1     2     Sunny         Hot     High  Strong       No\n",
       "2     3  Overcast         Hot     High    Weak      Yes\n",
       "3     4      Rain        Mild     High    Weak      Yes\n",
       "4     5      Rain        Cool   Normal    Weak      Yes\n",
       "5     6      Rain        Cool   Normal  Strong       No\n",
       "6     7  Overcast        Cool   Normal  Strong      Yes\n",
       "7     8     Sunny        Mild     High    Weak       No\n",
       "8     9     Sunny        Cool   Normal    Weak      Yes\n",
       "9    10      Rain        Mild   Normal    Weak      Yes\n",
       "10   11     Sunny        Mild   Normal  Strong      Yes\n",
       "11   12  Overcast        Mild     High  Strong      Yes\n",
       "12   13  Overcast         Hot   Normal    Weak      Yes\n",
       "13   14      Rain        Mild     High  Strong       No"
      ]
     },
     "execution_count": 2,
     "metadata": {},
     "output_type": "execute_result"
    }
   ],
   "source": [
    "import pandas as pd\n",
    "\n",
    "tennis = pd.read_csv('../Data/Tennis.csv')\n",
    "tennis"
   ]
  },
  {
   "cell_type": "code",
   "execution_count": 3,
   "metadata": {},
   "outputs": [
    {
     "name": "stdout",
     "output_type": "stream",
     "text": [
      "Entropy of Outcome\n",
      "[0.40977638 0.53050958]\n",
      "0.9402859586706311\n"
     ]
    }
   ],
   "source": [
    "# Entropy for Outcome\n",
    "prob_arr = [9/14, 5/14]\n",
    "print('Entropy of Outcome')\n",
    "entropy_outcome = entropy(prob_arr)\n",
    "print(entropy_outcome)\n",
    "print(entropy_outcome.sum())"
   ]
  },
  {
   "cell_type": "code",
   "execution_count": 4,
   "metadata": {},
   "outputs": [
    {
     "name": "stdout",
     "output_type": "stream",
     "text": [
      "Entropy of Outcome based on weak wind\n",
      "{'Yes': 6, 'No': 2}\n",
      "[0.31127812 0.5       ]\n",
      "0.8112781244591328\n"
     ]
    }
   ],
   "source": [
    "# Entroby for Outcome based on weak wind\n",
    "print('Entropy of Outcome based on weak wind')\n",
    "weak_decision = dict(tennis[tennis['Wind'] == 'Weak']['Decision'].value_counts())\n",
    "print(weak_decision)\n",
    "entropy_weak = entropy([weak_decision['Yes']/8, weak_decision['No']/8])\n",
    "print(entropy_weak)\n",
    "print(entropy_weak.sum())"
   ]
  },
  {
   "cell_type": "code",
   "execution_count": 5,
   "metadata": {},
   "outputs": [
    {
     "name": "stdout",
     "output_type": "stream",
     "text": [
      "Entropy of Outcome based on strong wind\n",
      "{'No': 3, 'Yes': 3}\n",
      "[0.5 0.5]\n",
      "1.0\n"
     ]
    }
   ],
   "source": [
    "# Entroby for Outcome based on strong wind\n",
    "print('Entropy of Outcome based on strong wind')\n",
    "strong_decision = dict(tennis[tennis['Wind'] == 'Strong']['Decision'].value_counts())\n",
    "print(strong_decision)\n",
    "entropy_strong = entropy([strong_decision['Yes']/6, strong_decision['No']/6])\n",
    "print(entropy_strong)\n",
    "print(entropy_strong.sum())"
   ]
  },
  {
   "cell_type": "markdown",
   "metadata": {},
   "source": [
    "## Information Gain\n",
    "**Information** Gain measures how much information a feature gives us about the decision (class). This is the main measurement used by a Decision Tree algorithm to construct a Decision Tree!\n",
    "\n",
    "Decision Trees will always try to maximize information gain\n",
    "The higher the information gain a feature has, the more likely it is to be tested first\n",
    "the feature with the highest information gain will be the first feature in the decision tree, and its branches will lead to the other features"
   ]
  },
  {
   "cell_type": "markdown",
   "metadata": {},
   "source": [
    "### Activity: Get the information gain for the wind column"
   ]
  },
  {
   "cell_type": "code",
   "execution_count": 6,
   "metadata": {},
   "outputs": [
    {
     "data": {
      "text/plain": [
       "0.0478410717376383"
      ]
     },
     "execution_count": 6,
     "metadata": {},
     "output_type": "execute_result"
    }
   ],
   "source": [
    "0.94 - (8/14*entropy_weak.sum() + 6/14*entropy_strong.sum())"
   ]
  },
  {
   "cell_type": "markdown",
   "metadata": {},
   "source": [
    "### Acticity: Write a function to get the information gain of a given dataframe and its columns"
   ]
  },
  {
   "cell_type": "code",
   "execution_count": 7,
   "metadata": {},
   "outputs": [
    {
     "name": "stdout",
     "output_type": "stream",
     "text": [
      "[0.24674981977443933, 0.02922256565895487, 0.15183550136234159, 0.04812703040826949]\n"
     ]
    }
   ],
   "source": [
    "def info_gain(df, y, features=[]):\n",
    "    if len(features) == 0:\n",
    "        features = df.drop(y, axis=1).columns\n",
    "    \n",
    "    gain = []\n",
    "    entropy_y = df[y].unique()\n",
    "    for index, value in enumerate(entropy_y):\n",
    "        entropy_y[index] = len(df[df[y] == value])/len(df[y])\n",
    "    entropy_y = entropy(entropy_y)\n",
    "        \n",
    "    for feature in features:\n",
    "        entropy_feature = df[feature].unique()\n",
    "        for index, value in enumerate(entropy_feature):\n",
    "            unique_values = df[df[feature] == value][y].value_counts()\n",
    "            values_dict = dict(unique_values)\n",
    "            entropy_value = entropy([values_dict[unique_value]/unique_values.sum() for unique_value in unique_values.keys()]).sum()\n",
    "            entropy_feature[index] = len(df[df[feature] == value][y])/len(df[feature])*entropy_value\n",
    "        gain.append(entropy_y.sum() -  entropy_feature.sum())\n",
    "    print(gain)\n",
    "    \n",
    "info_gain(tennis, 'Decision', ['Outlook', 'Temperature', 'Humidity', 'Wind'])"
   ]
  },
  {
   "cell_type": "markdown",
   "metadata": {},
   "source": [
    "## Build the decision tree with sklearn for tennis dataset\n",
    "**For Decision Tree Visualization in Python:**\n",
    "\n",
    "Packages that are needed are below. Note that the multiple installs for graphviz are to ensure the executables install correctly to avoid this error:\n",
    "\n",
    "- conda install -c anaconda graphviz\n",
    "- brew install graphviz\n",
    "- conda install -c anaconda pydot\n",
    "- conda install -c conda-forge pydotplus"
   ]
  },
  {
   "cell_type": "code",
   "execution_count": 8,
   "metadata": {},
   "outputs": [
    {
     "name": "stdout",
     "output_type": "stream",
     "text": [
      "    Day   Outlook Temperature Humidity    Wind Decision\n",
      "0     1     Sunny         Hot     High    Weak       No\n",
      "1     2     Sunny         Hot     High  Strong       No\n",
      "2     3  Overcast         Hot     High    Weak      Yes\n",
      "3     4      Rain        Mild     High    Weak      Yes\n",
      "4     5      Rain        Cool   Normal    Weak      Yes\n",
      "5     6      Rain        Cool   Normal  Strong       No\n",
      "6     7  Overcast        Cool   Normal  Strong      Yes\n",
      "7     8     Sunny        Mild     High    Weak       No\n",
      "8     9     Sunny        Cool   Normal    Weak      Yes\n",
      "9    10      Rain        Mild   Normal    Weak      Yes\n",
      "10   11     Sunny        Mild   Normal  Strong      Yes\n",
      "11   12  Overcast        Mild     High  Strong      Yes\n",
      "12   13  Overcast         Hot   Normal    Weak      Yes\n",
      "13   14      Rain        Mild     High  Strong       No\n",
      "    Day  Outlook  Temperature  Humidity  Wind  Decision\n",
      "0     0        2            1         0     1         0\n",
      "1     1        2            1         0     0         0\n",
      "2     2        0            1         0     1         1\n",
      "3     3        1            2         0     1         1\n",
      "4     4        1            0         1     1         1\n",
      "5     5        1            0         1     0         0\n",
      "6     6        0            0         1     0         1\n",
      "7     7        2            2         0     1         0\n",
      "8     8        2            0         1     1         1\n",
      "9     9        1            2         1     1         1\n",
      "10   10        2            2         1     0         1\n",
      "11   11        0            2         0     0         1\n",
      "12   12        0            1         1     1         1\n",
      "13   13        1            2         0     0         0\n"
     ]
    },
    {
     "data": {
      "text/plain": [
       "True"
      ]
     },
     "execution_count": 8,
     "metadata": {},
     "output_type": "execute_result"
    }
   ],
   "source": [
    "import pandas as pd\n",
    "from sklearn.tree import DecisionTreeClassifier\n",
    "from sklearn import preprocessing\n",
    "from sklearn.tree import export_graphviz\n",
    "import pydotplus\n",
    "\n",
    "# read in the tennis data, need the extra parameters since it's a txt file\n",
    "data = pd.read_csv('../Data/Tennis.csv')\n",
    "print(data)\n",
    "\n",
    "# encode the data so we can use it with our decision tree,\n",
    "# by converting categories into numbers\n",
    "data_encoded = data.apply(preprocessing.LabelEncoder().fit_transform)\n",
    "print(data_encoded)\n",
    "\n",
    "# create our decision tree classifier with entropy\n",
    "clf = DecisionTreeClassifier(criterion='entropy', max_depth=3)\n",
    "\n",
    "# one_hot_data = pd.get_dummies(data[['a', 'b', 'c', 'd']], drop_first=True)\n",
    "# print(one_hot_data)\n",
    "\n",
    "# provide our feature array and target array (1-item),\n",
    "# and train the model using a decision tree\n",
    "clf.fit(data_encoded[['Outlook', 'Temperature', 'Humidity', 'Wind']], data_encoded['Decision'])\n",
    "\n",
    "# export our decision tree into data that can be plotted\n",
    "dot_data = export_graphviz(clf, out_file=None, feature_names=['Outlook', 'Temp.', 'Humidity', 'Wind'])\n",
    "\n",
    "# Draw graph\n",
    "graph = pydotplus.graph_from_dot_data(dot_data)\n",
    "graph.write_png('tennis_tree.png')"
   ]
  },
  {
   "cell_type": "code",
   "execution_count": null,
   "metadata": {},
   "outputs": [],
   "source": []
  }
 ],
 "metadata": {
  "kernelspec": {
   "display_name": "Python 3",
   "language": "python",
   "name": "python3"
  },
  "language_info": {
   "codemirror_mode": {
    "name": "ipython",
    "version": 3
   },
   "file_extension": ".py",
   "mimetype": "text/x-python",
   "name": "python",
   "nbconvert_exporter": "python",
   "pygments_lexer": "ipython3",
   "version": "3.7.4"
  }
 },
 "nbformat": 4,
 "nbformat_minor": 2
}
