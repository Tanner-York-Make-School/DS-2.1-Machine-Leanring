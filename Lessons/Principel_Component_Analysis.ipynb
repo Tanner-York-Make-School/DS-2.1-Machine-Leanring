{
 "cells": [
  {
   "cell_type": "markdown",
   "metadata": {},
   "source": [
    "# Principel Component Analysis (PCA)\n",
    "PCA is a well-known algorithm for Dimensionality Reduction\n",
    "- Reduces the number of features while keeping the features information\n",
    "\n",
    "- Removes correlations among features\n",
    "\n",
    "- Emphasizes variation of strong features, making the data easier to visualize"
   ]
  },
  {
   "cell_type": "markdown",
   "metadata": {},
   "source": [
    "## EigenValue and Eigenvector of matrix\n",
    "A martix's eigenvalues and eigenvectors are what we will use for the scalar value a and vector v respectively.\n",
    "\n",
    "- **Eigenvector (v)** is a vector whose direction remains unchanged when a linear transformation is applied to it. They represent the rotation matrix\n",
    "- **Eigenvalues (a)** represents the scalar value that is used such that when multiplied by v, gives the same value as Av"
   ]
  },
  {
   "cell_type": "markdown",
   "metadata": {},
   "source": [
    "## Activity: Are the countries in great UK different in terms of food?\n",
    "- In the table is the average consumption of 17 types of food in grams per person per week for every country in the UK\n",
    "- We want to visually represent the diffrence among UK countries based on the food they eat, but this can be difficult when there's 17 types of food (dimensions) to consider. The graph would be incredibly hard to read!\n",
    "- This is where PCA comes in to play: through PCA, we can consolidate the 17 types into what we call principle components.\n",
    "- Principle Components allow us to take an arbitrary number of data points (let's say 17) and consolidate them into a single (x, y) datapoint for a given feature.\n",
    "\n",
    "### Question:\n",
    "Which country is different from the the others? Any idea or reasoning?"
   ]
  },
  {
   "cell_type": "code",
   "execution_count": 1,
   "metadata": {},
   "outputs": [
    {
     "name": "stdout",
     "output_type": "stream",
     "text": [
      "Matrix of feature values\n",
      "[[ 375   57  245 1472  105   54  193  147 1102  720  253  685  488  198\n",
      "   360 1374  156]\n",
      " [ 135   47  267 1494   66   41  209   93  674 1033  143  586  355  187\n",
      "   334 1506  139]\n",
      " [ 458   53  242 1462  103   62  184  122  957  566  171  750  418  220\n",
      "   337 1572  147]\n",
      " [ 475   73  227 1582  103   64  235  160 1137  874  265  803  570  203\n",
      "   365 1256  175]]\n",
      "\n",
      "Matrix with PCA aplied, turing the 17 featuers into 2 features\n",
      "[[-144.99315218   -2.53299944]\n",
      " [ 477.39163882  -58.90186182]\n",
      " [ -91.869339    286.08178613]\n",
      " [-240.52914764 -224.64692488]]\n"
     ]
    }
   ],
   "source": [
    "import numpy as np\n",
    "import pandas as pd\n",
    "from sklearn.decomposition import PCA\n",
    "from sklearn import preprocessing\n",
    "import matplotlib.pyplot as plt\n",
    "\n",
    "\n",
    "df = pd.read_excel('../Data/pca_uk.xlsx')\n",
    "X = np.array([df[i].values for i in df.columns if i != 'Features'])\n",
    "pca = PCA(n_components=2)\n",
    "X_r = pca.fit_transform(X)\n",
    "\n",
    "print('Matrix of feature values')\n",
    "print(X)\n",
    "print('')\n",
    "print('Matrix with PCA aplied, turing the 17 featuers into 2 features')\n",
    "print(X_r)"
   ]
  },
  {
   "cell_type": "code",
   "execution_count": 2,
   "metadata": {},
   "outputs": [
    {
     "data": {
      "image/png": "[encoded data removed]",
      "text/plain": [
       "<Figure size 432x288 with 1 Axes>"
      ]
     },
     "metadata": {
      "needs_background": "light"
     },
     "output_type": "display_data"
    }
   ],
   "source": [
    "# Visualize the principle components\n",
    "\n",
    "for feature, (plot_x,plot_y) in enumerate(zip(X_r[:, 0], X_r[:, 1])):\n",
    "    plt.scatter(plot_x, plot_y)\n",
    "    plt.text(plot_x+0.3, plot_y+0.3, df.columns[:-1][feature])\n",
    "\n",
    "plt.show()"
   ]
  },
  {
   "cell_type": "markdown",
   "metadata": {},
   "source": [
    "### Answer: \n",
    "Ireland is different from other three countries in UK"
   ]
  },
  {
   "cell_type": "markdown",
   "metadata": {},
   "source": [
    "### How much information in the original dataset is preserved in the principle components?\n",
    "**Hint:** use pca.explained_variance_ratio_"
   ]
  },
  {
   "cell_type": "code",
   "execution_count": 3,
   "metadata": {},
   "outputs": [
    {
     "name": "stdout",
     "output_type": "stream",
     "text": [
      "[0.67444346 0.96496821]\n"
     ]
    }
   ],
   "source": [
    "print(pca.explained_variance_ratio_.cumsum())"
   ]
  },
  {
   "cell_type": "markdown",
   "metadata": {},
   "source": [
    "## How to calculate the correlation of the principle components:"
   ]
  },
  {
   "cell_type": "code",
   "execution_count": 4,
   "metadata": {},
   "outputs": [
    {
     "name": "stdout",
     "output_type": "stream",
     "text": [
      "Correlation of PCA Component:\n",
      "(0.0, 1.0)\n"
     ]
    }
   ],
   "source": [
    "import scipy\n",
    "print('Correlation of PCA Component:')\n",
    "print(scipy.stats.pearsonr(X_r[:, 0], X_r[:, 1]))"
   ]
  },
  {
   "cell_type": "markdown",
   "metadata": {},
   "source": [
    "### Mini Activity: Write a function to reverse a given array"
   ]
  },
  {
   "cell_type": "code",
   "execution_count": 5,
   "metadata": {},
   "outputs": [
    {
     "name": "stdout",
     "output_type": "stream",
     "text": [
      "[4, 3, 2, 1]\n"
     ]
    }
   ],
   "source": [
    "def reverse_array(arr):\n",
    "    left, right = 0, len(arr)-1\n",
    "    while left < right:\n",
    "        arr[left], arr[right] = arr[right], arr[left]\n",
    "        left += 1\n",
    "        right -= 1\n",
    "    return arr\n",
    "        \n",
    "print(reverse_array([1, 2, 3, 4]))"
   ]
  },
  {
   "cell_type": "markdown",
   "metadata": {},
   "source": [
    "## Activity: Lets write our own function to obtain principle components\n",
    "1. Use the following matrix: X = np.array([[1, 1, 1], [1, 2, 1], [1, 3, 2], [1, 4, 3]])\n",
    "2. Subtract the column mean from the feature matrix -> this new matrix will be our centered matrix\n",
    "3. Calculate the covariance of the centered matrix (check out numpy's resources to see if there's a function that can 4. do this for you...) --> this new matrix will be our covariance matrix.\n",
    "5. Calculate the eigenvalue and eigenvector of the covariance matrix. Remember how we did this in a previous activity!\n",
    "6. Sort the eigevalues so that they are in decresing order, and then find the top N (for example, 2) eigenvectors\n",
    "7. Dot multiply the centered matrix with the top N eigenvectors of the covariance matrix\n",
    "8. Compare the result of custom function with PCA in sklearn"
   ]
  },
  {
   "cell_type": "code",
   "execution_count": 6,
   "metadata": {},
   "outputs": [
    {
     "name": "stdout",
     "output_type": "stream",
     "text": [
      "Expected Result:\n",
      "[[-1.65392786 -0.2775295 ]\n",
      " [-0.84584087  0.31153366]\n",
      " [ 0.55130929  0.09250983]\n",
      " [ 1.94845944 -0.126514  ]]\n",
      "\n",
      "Result Recieved:\n",
      "[[ 1.65392786 -0.2775295 ]\n",
      " [ 0.84584087  0.31153366]\n",
      " [-0.55130929  0.09250983]\n",
      " [-1.94845944 -0.126514  ]]\n"
     ]
    }
   ],
   "source": [
    "import numpy as np\n",
    "from sklearn.decomposition import PCA\n",
    "import scipy\n",
    "\n",
    "X = np.array([[1, 1, 1], [1, 2, 1], [1, 3, 2], [1, 4, 3]])\n",
    "\n",
    "print('Expected Result:')\n",
    "print(pca.fit_transform(X))\n",
    "print('')\n",
    "\n",
    "print('Result Recieved:')\n",
    "def PCA_calculations(data, n_comp):\n",
    "    centered = data - np.mean(data, axis=0)\n",
    "    covariance = np.cov(centered.T)\n",
    "    eig_value, eig_vector = np.linalg.eig(covariance)\n",
    "    idx = np.argsort(eig_value)[::-1] \n",
    "    # Using pythons sorted function doesn't work (probably because it's not a np array)\n",
    "    top_n = idx[:n_comp]\n",
    "    eig_vector = eig_vector[:, idx[:n_comp]]\n",
    "    return np.dot(centered, eig_vector)\n",
    "\n",
    "        \n",
    "print(PCA_calculations(X, 2))"
   ]
  },
  {
   "cell_type": "markdown",
   "metadata": {},
   "source": [
    "## Activity: Apply PCA to Boston housing features and then train the linear regression model\n",
    "- Basically, we remove correlation among features with PCA\n",
    "- We do not need to do feature data scaling (normalization) when we do PCA for features\n",
    "- Report the R-squared and MSE for a system with PCA+Linear Regression"
   ]
  },
  {
   "cell_type": "code",
   "execution_count": 7,
   "metadata": {},
   "outputs": [],
   "source": [
    "from sklearn.datasets import load_boston\n",
    "from sklearn.model_selection import train_test_split\n",
    "from sklearn.metrics import r2_score, mean_squared_error\n",
    "from sklearn.preprocessing import StandardScaler, MinMaxScaler\n",
    "from sklearn.linear_model import LinearRegression\n",
    "\n",
    "\n",
    "st_scaler = StandardScaler()\n",
    "minmax_scaler = MinMaxScaler()\n",
    "boston = load_boston()\n",
    "ln_reg = LinearRegression()\n",
    "\n",
    "bos = pd.DataFrame(boston.data)\n",
    "bos.columns = boston.feature_names\n",
    "bos['PRICE'] = boston.target\n",
    "\n",
    "X = bos.drop('PRICE', axis=1)\n",
    "y = bos['PRICE']\n",
    "\n",
    "X_train, X_test, y_train, y_test = train_test_split(X, y, test_size=0.25, random_state=0)"
   ]
  },
  {
   "cell_type": "code",
   "execution_count": 8,
   "metadata": {},
   "outputs": [
    {
     "name": "stdout",
     "output_type": "stream",
     "text": [
      "R-Squared Score:  0.10942786051559261\n"
     ]
    }
   ],
   "source": [
    "X_train_reduced = pca.fit_transform(X_train)\n",
    "X_train_scaled = minmax_scaler.fit_transform(X_train_reduced)\n",
    "X_test_reduced = pca.transform(X_test)\n",
    "\n",
    "ln_reg.fit(X_train_reduced, y_train)\n",
    "y_pred = ln_reg.predict(X_test_reduced)\n",
    "print('R-Squared Score: ', r2_score(y_test, y_pred))"
   ]
  },
  {
   "cell_type": "markdown",
   "metadata": {},
   "source": [
    "## As we can see, just because we perform preprocess doesn't improve the models score."
   ]
  },
  {
   "cell_type": "code",
   "execution_count": null,
   "metadata": {},
   "outputs": [],
   "source": []
  }
 ],
 "metadata": {
  "kernelspec": {
   "display_name": "Python 3",
   "language": "python",
   "name": "python3"
  },
  "language_info": {
   "codemirror_mode": {
    "name": "ipython",
    "version": 3
   },
   "file_extension": ".py",
   "mimetype": "text/x-python",
   "name": "python",
   "nbconvert_exporter": "python",
   "pygments_lexer": "ipython3",
   "version": "3.7.7"
  }
 },
 "nbformat": 4,
 "nbformat_minor": 2
}
