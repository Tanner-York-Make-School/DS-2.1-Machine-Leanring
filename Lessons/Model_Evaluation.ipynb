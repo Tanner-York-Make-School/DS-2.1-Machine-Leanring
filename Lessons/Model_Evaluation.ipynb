{
 "cells": [
  {
   "cell_type": "markdown",
   "metadata": {},
   "source": [
    "# Model Evaluation"
   ]
  },
  {
   "cell_type": "code",
   "execution_count": 1,
   "metadata": {},
   "outputs": [],
   "source": [
    "import pandas as pd\n",
    "import numpy as np\n",
    "from sklearn.model_selection import train_test_split\n",
    "import matplotlib.pyplot as plt\n",
    "\n",
    "df = pd.read_csv('../Data/Diabetes.csv')\n",
    "\n",
    "feature_cols = ['Pregnancies', 'Insulin', 'BMI', 'Age']\n",
    "X = df[feature_cols]\n",
    "y = df['Outcome']\n",
    "\n",
    "X_train, X_test, y_train, y_test = train_test_split(X, y, test_size=0.25, random_state=0)"
   ]
  },
  {
   "cell_type": "markdown",
   "metadata": {},
   "source": [
    "## Classifier Model Evaluation Metrics\n",
    "\n",
    "### What is accuracy, recall, precision, Specificity and F1-score?\n",
    "- Accuracy, recall, precision, Specificity and F1-score are all obtained from Confision Matrix elements known as : TN, FP, FN, TP\n",
    "**Accuracy: overall**, how often is the classifier correct? -> $accuracy = \\frac {TP + TN}{TP+TN+FP+FN}$\n",
    "\n",
    "**Classification error:** overall, how often is the classifier incorrect? -> $error = 1- accuracy = \\frac {FP + FN}{TP + TN + FP + FN}$\n",
    "\n",
    "**Recall:** when the actual value is positive, how often is the prediction correct? -> $recall = \\frac {TP}{TP + FN}$\n",
    "\n",
    "**Precision:** When a positive value is predicted, how often is the prediction correct? -> $precision = \\frac {TP}{TP + FP}$\n",
    "\n",
    "**Specificity:** When the actual value is negative, how often is the prediction correct? -> $Specificity = \\frac {TN}{TN + FP}$\n",
    "\n",
    "F1_score = 2 x (Precision x Recall )/(Precision + Recall)"
   ]
  },
  {
   "cell_type": "markdown",
   "metadata": {},
   "source": [
    "## Activity: Write a function that returns Accuray, Precision, Recall, and F1-score from the Confision Matrix"
   ]
  },
  {
   "cell_type": "code",
   "execution_count": 2,
   "metadata": {},
   "outputs": [
    {
     "name": "stdout",
     "output_type": "stream",
     "text": [
      "Accuracy: 0.6927083333333334\n",
      "Percision: 0.5555555555555556\n",
      "Recall: 0.24193548387096775\n",
      "F1 Score 0.3370786516853933\n"
     ]
    }
   ],
   "source": [
    "from sklearn import metrics\n",
    "import numpy as np\n",
    "\n",
    "confusion = np.array([[118., 12.], [ 47., 15.]])\n",
    "\n",
    "def confusion_matrix_stats(matrix):\n",
    "    true_neg, false_pos, false_neg, true_pos = matrix[0, 0], matrix[0, 1], matrix[1, 0], matrix[1, 1]\n",
    "    \n",
    "    accuracy = ((true_pos + true_neg) / float(true_pos + true_neg + false_pos + false_neg))\n",
    "    print('Accuracy:', accuracy )\n",
    "    percision = true_pos / float(true_pos + false_pos)\n",
    "    print('Percision:', percision)\n",
    "    recall = true_pos / float(false_neg + true_pos)\n",
    "    print('Recall:', recall)\n",
    "    f1_score = 2 * percision * recall / float(percision + recall)\n",
    "    print('F1 Score', f1_score)\n",
    "    \n",
    "confusion_matrix_stats(confusion)"
   ]
  },
  {
   "cell_type": "markdown",
   "metadata": {},
   "source": [
    "## Activity: Discover if changing the threshold, using the Logistic Regression's y_pred_prob, improves the Diabetes model's performance"
   ]
  },
  {
   "cell_type": "code",
   "execution_count": 3,
   "metadata": {
    "scrolled": true
   },
   "outputs": [],
   "source": [
    "from sklearn.linear_model import LogisticRegression\n",
    "\n",
    "log_reg = LogisticRegression(solver='lbfgs')\n",
    "log_reg.fit(X_train, y_train)\n",
    "\n",
    "y_pred = log_reg.predict(X_test)\n",
    "y_pred_prob = log_reg.predict_proba(X_test)"
   ]
  },
  {
   "cell_type": "markdown",
   "metadata": {},
   "source": [
    "### Without Threshold"
   ]
  },
  {
   "cell_type": "code",
   "execution_count": 4,
   "metadata": {},
   "outputs": [
    {
     "name": "stdout",
     "output_type": "stream",
     "text": [
      "[[114  16]\n",
      " [ 46  16]]\n",
      "Accuracy: 0.6770833333333334\n",
      "Percision: 0.5\n",
      "Recall: 0.25806451612903225\n",
      "F1 Score 0.3404255319148936\n"
     ]
    }
   ],
   "source": [
    "confusion = metrics.confusion_matrix(y_test, y_pred)\n",
    "print(confusion)\n",
    "confusion_matrix_stats(confusion)"
   ]
  },
  {
   "cell_type": "markdown",
   "metadata": {},
   "source": [
    "### With Threshold"
   ]
  },
  {
   "cell_type": "code",
   "execution_count": 5,
   "metadata": {},
   "outputs": [],
   "source": [
    "threshold = y_train.value_counts()[1] / len(y_train)\n",
    "\n",
    "def threshold_predict(y_pred_prob, threshold):\n",
    "    return [1 if prob > threshold else 0 for y, prob in y_pred_prob]\n",
    "\n",
    "y_pred = threshold_predict(y_pred_prob, threshold)"
   ]
  },
  {
   "cell_type": "code",
   "execution_count": 6,
   "metadata": {},
   "outputs": [
    {
     "name": "stdout",
     "output_type": "stream",
     "text": [
      "[[90 40]\n",
      " [26 36]]\n",
      "Accuracy: 0.65625\n",
      "Percision: 0.47368421052631576\n",
      "Recall: 0.5806451612903226\n",
      "F1 Score 0.5217391304347826\n"
     ]
    }
   ],
   "source": [
    "threshold_confusion = metrics.confusion_matrix(y_test, y_pred)\n",
    "\n",
    "print(threshold_confusion)\n",
    "confusion_matrix_stats(threshold_confusion)"
   ]
  },
  {
   "cell_type": "markdown",
   "metadata": {},
   "source": [
    "## Cross-Validation\n",
    "- Normally in a machine learning process, data is divided into training and test sets; the training set is then used to train the model and the test set is used to evaluate the performance of a model\n",
    "\n",
    "- It is possible that the accuracy obtained on one test is very different to accuracy obtained on another test set using the same algorithm\n",
    "\n",
    "- To see the model performance, we use K-Fold Cross-Validation for performance evaluation where K is any number\n"
   ]
  },
  {
   "cell_type": "markdown",
   "metadata": {},
   "source": [
    "### Lets obtain Accuracy and F1-Score for 5-fold cross validation based on diabetes dataset"
   ]
  },
  {
   "cell_type": "code",
   "execution_count": 7,
   "metadata": {},
   "outputs": [
    {
     "name": "stdout",
     "output_type": "stream",
     "text": [
      "[0.64935065 0.65584416 0.64935065 0.70588235 0.65359477]\n",
      "0.6628045157456922\n",
      "[0.578125   0.55462185 0.54237288 0.64       0.576     ]\n",
      "0.5782239460190857\n"
     ]
    }
   ],
   "source": [
    "from sklearn.model_selection import cross_val_score \n",
    "\n",
    "log_reg = LogisticRegression(class_weight={1: 500/268}, solver='lbfgs')\n",
    "\n",
    "all_accuracies = cross_val_score(estimator=log_reg, X=X, y=y, cv=5, scoring='accuracy')\n",
    "print(all_accuracies)\n",
    "print(all_accuracies.mean())\n",
    "\n",
    "all_f1 = cross_val_score(estimator=log_reg, X=X, y=y, cv=5, scoring='f1')\n",
    "print(all_f1)\n",
    "print(all_f1.mean())"
   ]
  },
  {
   "cell_type": "code",
   "execution_count": 8,
   "metadata": {},
   "outputs": [
    {
     "data": {
      "image/png": "[encoded data removed]",
      "text/plain": [
       "<Figure size 432x288 with 1 Axes>"
      ]
     },
     "metadata": {
      "needs_background": "light"
     },
     "output_type": "display_data"
    },
    {
     "data": {
      "text/plain": [
       "0    500\n",
       "1    268\n",
       "Name: Outcome, dtype: int64"
      ]
     },
     "execution_count": 8,
     "metadata": {},
     "output_type": "execute_result"
    }
   ],
   "source": [
    "plt.hist(y, bins=20)\n",
    "plt.show()\n",
    "\n",
    "y_pd_series = pd.Series(y)\n",
    "y_pd_series.value_counts()"
   ]
  },
  {
   "cell_type": "markdown",
   "metadata": {},
   "source": [
    "## How to choose Models based on Cross-Validation?\n",
    "- We want to have low variance result for CV -> pick a model that has lower variance\n",
    "- If two models have low variance result for CV -> pick a model that has higher mean"
   ]
  },
  {
   "cell_type": "markdown",
   "metadata": {},
   "source": [
    "## Grid Search for Parameter Selection\n",
    "- Machine learning models have hyper-parameters. To know which values of hyper-paramaeters give the best result we need grid search\n",
    "- Question: what does grid search mean?"
   ]
  },
  {
   "cell_type": "code",
   "execution_count": 11,
   "metadata": {},
   "outputs": [],
   "source": [
    "from sklearn import svm\n",
    "\n",
    "def svc_param_selection(X, y, nfolds):\n",
    "    Cs = [0.001, 0.01, 0.1, 1, 10]\n",
    "    gammas = [0.001, 0.01, 0.1, 1]\n",
    "    param_grid = {'C': Cs, 'gamma' : gammas}\n",
    "    grid_search = GridSearchCV(svm.SVC(kernel='rbf'), param_grid, cv=nfolds)\n",
    "    grid_search.fit(X, y)\n",
    "    return grid_search.best_params_"
   ]
  },
  {
   "cell_type": "code",
   "execution_count": null,
   "metadata": {},
   "outputs": [],
   "source": []
  }
 ],
 "metadata": {
  "kernelspec": {
   "display_name": "Python 3",
   "language": "python",
   "name": "python3"
  },
  "language_info": {
   "codemirror_mode": {
    "name": "ipython",
    "version": 3
   },
   "file_extension": ".py",
   "mimetype": "text/x-python",
   "name": "python",
   "nbconvert_exporter": "python",
   "pygments_lexer": "ipython3",
   "version": "3.7.4"
  }
 },
 "nbformat": 4,
 "nbformat_minor": 2
}
