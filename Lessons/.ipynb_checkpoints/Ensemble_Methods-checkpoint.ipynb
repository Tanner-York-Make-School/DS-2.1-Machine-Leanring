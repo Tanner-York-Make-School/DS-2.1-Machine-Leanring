{
 "cells": [
  {
   "cell_type": "markdown",
   "metadata": {},
   "source": [
    "# Ensemble Methods\n",
    "Ensemble Methods are machine learning algorithms that rely on the \"Wisdom of the Crowd\"\n",
    "\n",
    "Many weak algorithms working together do better than 1 big, monolithic algorithm\n",
    "\n",
    "They are two major groups for ensemble methods: **Random Forests** and **Gradient Boosted Trees**"
   ]
  },
  {
   "cell_type": "markdown",
   "metadata": {},
   "source": [
    "## Random Forest\n",
    "Random Forest is a name for a type of supervised learning that is just a collection of many small Decision Trees.\n",
    "\n",
    "Random Forest are also good for feature selection by determining a feature impoartance\n",
    "\n",
    "Assume we have a dataset with 10 columns, and thousands of rows. The Random forest algorithm would start by randomly selecting around 2/3 of the rows, and then randomly selecting 6 columns in the data"
   ]
  },
  {
   "cell_type": "markdown",
   "metadata": {},
   "source": [
    "### Activity: Apply Random Forest to iris dataset\n",
    "Read : https://www.datacamp.com/community/tutorials/random-forests-classifier-python\n",
    "\n",
    "Finish the turorial on your own, and then answer the following questions:\n",
    "\n",
    "What was the feature importance as described in the tutorial: clf.feature_importances_\n",
    "\n",
    "Change number of estimator (n_estimators) and compare the accuracy result"
   ]
  },
  {
   "cell_type": "code",
   "execution_count": 1,
   "metadata": {},
   "outputs": [],
   "source": [
    "from sklearn.model_selection import train_test_split\n",
    "from sklearn import datasets\n",
    "import pandas as pd\n",
    "\n",
    "iris = datasets.load_iris()\n",
    "\n",
    "df = pd.DataFrame({\n",
    "    'sepal length':iris.data[:,0],\n",
    "    'sepal width':iris.data[:,1],\n",
    "    'petal length':iris.data[:,2],\n",
    "    'petal width':iris.data[:,3],\n",
    "    'species':iris.target\n",
    "})\n",
    "\n",
    "X = df[['sepal length', 'sepal width', 'petal length', 'petal width']]  # Features\n",
    "y = df['species']\n",
    "X_train, X_test, y_train, y_test = train_test_split(X, y, test_size=0.3) # 70% training and 30% test"
   ]
  },
  {
   "cell_type": "code",
   "execution_count": 2,
   "metadata": {},
   "outputs": [],
   "source": [
    "from sklearn.ensemble import RandomForestClassifier\n",
    "\n",
    "clf = RandomForestClassifier(n_estimators=1)\n",
    "clf.fit(X_train,y_train)\n",
    "y_pred=clf.predict(X_test)"
   ]
  },
  {
   "cell_type": "code",
   "execution_count": 3,
   "metadata": {},
   "outputs": [
    {
     "name": "stdout",
     "output_type": "stream",
     "text": [
      "Accuracy: 0.9555555555555556\n"
     ]
    }
   ],
   "source": [
    "from sklearn import metrics\n",
    "\n",
    "print(\"Accuracy:\",metrics.accuracy_score(y_test, y_pred))"
   ]
  },
  {
   "cell_type": "markdown",
   "metadata": {},
   "source": [
    "#### Finding and Visualizing Feature Importance"
   ]
  },
  {
   "cell_type": "code",
   "execution_count": 4,
   "metadata": {},
   "outputs": [
    {
     "data": {
      "text/plain": [
       "petal width (cm)     0.626129\n",
       "petal length (cm)    0.343907\n",
       "sepal width (cm)     0.029964\n",
       "sepal length (cm)    0.000000\n",
       "dtype: float64"
      ]
     },
     "execution_count": 4,
     "metadata": {},
     "output_type": "execute_result"
    }
   ],
   "source": [
    "feature_imp = pd.Series(clf.feature_importances_,index=iris.feature_names).sort_values(ascending=False)\n",
    "feature_imp"
   ]
  },
  {
   "cell_type": "code",
   "execution_count": 5,
   "metadata": {},
   "outputs": [
    {
     "data": {
      "text/plain": [
       "<matplotlib.axes._subplots.AxesSubplot at 0x11ab42150>"
      ]
     },
     "execution_count": 5,
     "metadata": {},
     "output_type": "execute_result"
    },
    {
     "data": {
      "image/png": "[encoded data removed]",
      "text/plain": [
       "<Figure size 432x288 with 1 Axes>"
      ]
     },
     "metadata": {
      "needs_background": "light"
     },
     "output_type": "display_data"
    }
   ],
   "source": [
    "import matplotlib.pyplot as plt\n",
    "import seaborn as sns\n",
    "%matplotlib inline\n",
    "sns.barplot(x=feature_imp, y=feature_imp.index)"
   ]
  },
  {
   "cell_type": "markdown",
   "metadata": {},
   "source": [
    "## Gradient Boosting\n",
    "In boosting, the trees are built sequentially such that **each subsequent tree aims to reduce the errors of the previous tree**\n",
    "\n",
    "The tree that grows next in the sequence will learn from an updated version of the residuals\n",
    "\n",
    "Residuals: The differences between observed and predicted values of data."
   ]
  },
  {
   "cell_type": "markdown",
   "metadata": {},
   "source": [
    "### Activity: We want to build a model for a prediction problem with Boosting method\n",
    "- Consider the following data, where the years of experience is predictor variable (feature) and salary (in thousand dollars) is the target\n",
    "- Using regression trees as base learners, we can create a model to predict the salary\n",
    "    1. Obtain the mean value of target: F0 = np.mean(Y)\n",
    "    2. Build the simplest decision tree regressor with the Feature as X and Y-F0 as the target\n",
    "    3. obtain h1 as the output result of decision tree regressor with X as input : F1 =F0 + h1\n",
    "    4. Build another simple decision tree regressor with Salary as X and Y-F1 as the target\n",
    "    5. Keep doing these steps we can predict salary, Y from years of experience X"
   ]
  },
  {
   "cell_type": "markdown",
   "metadata": {},
   "source": [
    "#### First Tree"
   ]
  },
  {
   "cell_type": "code",
   "execution_count": 6,
   "metadata": {},
   "outputs": [
    {
     "name": "stdout",
     "output_type": "stream",
     "text": [
      "F0 134.0\n",
      "H1 [-38.25 -38.25 -38.25 -38.25  25.5   25.5   25.5   25.5   25.5   25.5 ]\n"
     ]
    }
   ],
   "source": [
    "from sklearn.tree import DecisionTreeRegressor\n",
    "import numpy as np\n",
    "from sklearn.tree import export_graphviz\n",
    "import pydotplus\n",
    "\n",
    "# Feature, years of work experience\n",
    "X = np.array([5, 7, 12, 23, 25, 28, 29, 34, 35, 40])\n",
    "# Target, salary in in thousand dollars\n",
    "Y = np.array([82, 80, 103, 118, 172, 127, 204, 189, 99, 166])\n",
    "\n",
    "# Obtain the mean of the target (F0)\n",
    "F0 = np.mean(Y)\n",
    "print('F0', F0)\n",
    "\n",
    "# Build and train the simple Decision Tree Regression Model\n",
    "regre = DecisionTreeRegressor(max_depth=1) # to many levels == overfitting\n",
    "regre.fit(X.reshape(-1, 1), (Y-F0).reshape(-1, 1))\n",
    "\n",
    "h1 = regre.predict(X.reshape(-1,1))\n",
    "print('H1', h1)"
   ]
  },
  {
   "cell_type": "markdown",
   "metadata": {},
   "source": [
    "#### Second Tree"
   ]
  },
  {
   "cell_type": "code",
   "execution_count": 7,
   "metadata": {},
   "outputs": [
    {
     "name": "stdout",
     "output_type": "stream",
     "text": [
      "F1 [95.75, 95.75, 95.75, 95.75, 159.5, 159.5, 159.5, 159.5, 159.5, 159.5]\n",
      "H2 [  6.75   6.75   6.75   6.75   6.75   6.75   6.75   6.75 -27.   -27.  ]\n"
     ]
    }
   ],
   "source": [
    "# Obtain F1 from h1 and F0\n",
    "F1 = [i + F0 for i in h1]\n",
    "print('F1', F1)\n",
    "\n",
    "# Build and train another simple Decision Tree Regression Model\n",
    "regre = DecisionTreeRegressor(max_depth=1)\n",
    "regre.fit(X.reshape(-1, 1), (Y-F1).reshape(-1, 1))\n",
    "\n",
    "h2 = regre.predict(X.reshape(-1,1))\n",
    "print('H2', h2)"
   ]
  },
  {
   "cell_type": "markdown",
   "metadata": {},
   "source": [
    "### Activity: Build a function for apllying boosting N times"
   ]
  },
  {
   "cell_type": "code",
   "execution_count": 8,
   "metadata": {},
   "outputs": [],
   "source": [
    "from sklearn.tree import DecisionTreeRegressor\n",
    "import numpy as np\n",
    "import matplotlib.pyplot as plt\n",
    "\n",
    "# Feature, years of work experience\n",
    "X = np.array([5, 7, 12, 23, 25, 28, 29, 34, 35, 40])\n",
    "# Target, salary in in thousand dollars\n",
    "Y = np.array([82, 80, 103, 118, 172, 127, 204, 189, 99, 166])\n",
    "\n",
    "def boost(X, y, itera=3):\n",
    "    F = np.zeros((itera+1, len(y)))\n",
    "    for i in range(itera):\n",
    "        regre = DecisionTreeRegressor(max_depth=1)\n",
    "        if i == 0:\n",
    "            F[i] = np.mean(y)\n",
    "        regre.fit(X.reshape(-1, 1), (y-F[i]).reshape(-1, 1))\n",
    "        # h[i] = regre.predict(X.reshape(-1, 1)), we do not need to define separate variable for h\n",
    "        F[i+1] = F[i] + regre.predict(X.reshape(-1, 1))\n",
    "    \n",
    "    plt.plot(X, F[-1])\n",
    "    plt.scatter(X, Y)"
   ]
  },
  {
   "cell_type": "code",
   "execution_count": 9,
   "metadata": {},
   "outputs": [
    {
     "data": {
      "image/png": "[encoded data removed]",
      "text/plain": [
       "<Figure size 432x288 with 1 Axes>"
      ]
     },
     "metadata": {
      "needs_background": "light"
     },
     "output_type": "display_data"
    }
   ],
   "source": [
    "boost(X, Y, itera=3)"
   ]
  },
  {
   "cell_type": "code",
   "execution_count": 10,
   "metadata": {},
   "outputs": [
    {
     "data": {
      "image/png": "[encoded data removed]",
      "text/plain": [
       "<Figure size 432x288 with 1 Axes>"
      ]
     },
     "metadata": {
      "needs_background": "light"
     },
     "output_type": "display_data"
    }
   ],
   "source": [
    "boost(X, Y, itera=10)"
   ]
  },
  {
   "cell_type": "code",
   "execution_count": 11,
   "metadata": {},
   "outputs": [
    {
     "data": {
      "image/png": "[encoded data removed]",
      "text/plain": [
       "<Figure size 432x288 with 1 Axes>"
      ]
     },
     "metadata": {
      "needs_background": "light"
     },
     "output_type": "display_data"
    }
   ],
   "source": [
    "boost(X, Y, itera=100)"
   ]
  },
  {
   "cell_type": "markdown",
   "metadata": {},
   "source": [
    "## Xgboost\n",
    "**XGBoost** is short for eXtreme Gradient Boosting and is an open-sourced tool written in C++ but has interfaces for other programing languages. It performs very well with regression problems and is commonly seen in solutions to regression problems on kaggle"
   ]
  },
  {
   "cell_type": "markdown",
   "metadata": {},
   "source": [
    "# Summary\n",
    "- Ensemble Methods are machine learning algorithms that rely on the \"Wisdom of the Crowd\"\n",
    "\n",
    "- Many weak algorithms working together do better than 1 big, monolithic algorithm\n",
    "\n",
    "- In boosting, each tree will learn from an updated version of the residuals\n",
    "\n",
    "- They are two major groups for ensemble methods:\n",
    "\n",
    "    - Random Forests\n",
    "\n",
    "    - Gradient Boosted Trees\n",
    "\n",
    "- The Ensemble methods are able to obtain and rank the feature importance"
   ]
  },
  {
   "cell_type": "code",
   "execution_count": null,
   "metadata": {},
   "outputs": [],
   "source": []
  }
 ],
 "metadata": {
  "kernelspec": {
   "display_name": "Python 3",
   "language": "python",
   "name": "python3"
  },
  "language_info": {
   "codemirror_mode": {
    "name": "ipython",
    "version": 3
   },
   "file_extension": ".py",
   "mimetype": "text/x-python",
   "name": "python",
   "nbconvert_exporter": "python",
   "pygments_lexer": "ipython3",
   "version": "3.7.7"
  }
 },
 "nbformat": 4,
 "nbformat_minor": 2
}
