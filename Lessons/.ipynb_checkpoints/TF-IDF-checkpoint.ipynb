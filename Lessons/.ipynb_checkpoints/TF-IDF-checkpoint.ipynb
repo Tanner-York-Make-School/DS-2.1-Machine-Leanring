{
 "cells": [
  {
   "cell_type": "markdown",
   "metadata": {},
   "source": [
    "# TF-IDF and its Applications\n",
    "\n",
    "**Term Frequency, Inverse Document Frequency** is used for for finding keywords in a text/corpus"
   ]
  },
  {
   "cell_type": "markdown",
   "metadata": {},
   "source": [
    "### Why Do We Need To Find Important Words in Texts?\n",
    "- If we are interested to know what type of activity, an influencer in social networks such as Instagram is doing we should find the important words (keywords) from the captions of influencer’s posts\n",
    "- There are different criteria to define what is keyword, so need to score the words in our texts and sort them\n",
    "- TF-IDF is one of these criteria, but there are other methods too"
   ]
  },
  {
   "cell_type": "markdown",
   "metadata": {},
   "source": [
    "### What is TF-IDF?\n",
    "It's a way to score the importance of words (or \"terms\") in a document based on how frequently they appear across multiple documents\n",
    "    \n",
    " Intuitively:\n",
    "    - If a word appears frequently in a document, it's important. Give the word a high score\n",
    "    - But if a word appears in many documents, it's not a unique identifier. Give the word a low score"
   ]
  },
  {
   "cell_type": "markdown",
   "metadata": {},
   "source": [
    "### How do we calculate TF-IDF programmatically?\n",
    "Using sklearns TF-IDF Vectorizer"
   ]
  },
  {
   "cell_type": "code",
   "execution_count": 1,
   "metadata": {},
   "outputs": [
    {
     "name": "stdout",
     "output_type": "stream",
     "text": [
      "TD-IDF Matrix\n",
      "[[0.78528828 0.         0.         0.6191303  0.        ]\n",
      " [0.         0.70710678 0.         0.         0.70710678]\n",
      " [0.         0.53256952 0.         0.65782931 0.53256952]\n",
      " [0.         0.36626037 0.57381765 0.         0.73252075]]\n",
      "\n",
      "TD-IDF Keywords\n",
      "['blue', 'bright', 'shining', 'sky', 'sun']\n"
     ]
    }
   ],
   "source": [
    "from sklearn.feature_extraction.text import TfidfVectorizer\n",
    "\n",
    "documents = ['The sky is blue', 'The sun is bright', 'The sun in the sky is bright', 'we can see the shining sun, the bright sun']\n",
    "\n",
    "vectorizer = TfidfVectorizer(stop_words='english')\n",
    "TFIDF_matrix = vectorizer.fit_transform(documents)\n",
    "\n",
    "print('TD-IDF Matrix')\n",
    "print(TFIDF_matrix.toarray())\n",
    "print('')\n",
    "print('TD-IDF Keywords')\n",
    "print(vectorizer.get_feature_names())"
   ]
  },
  {
   "cell_type": "markdown",
   "metadata": {},
   "source": [
    "## Applications of TD-IDF\n",
    "- Influencer marketing is a new and innovative way for brands to target their customers by influencer on social media\n",
    "- We can use natural language processing (NLP) to extract keywords and top hashtags and then mapped to category (word2vec).\n",
    "**Work2Vec** is when data scientist decide to asign a number to every word and helps us use TD-IDF\n",
    "\n",
    "Why is this important:\n",
    "- Doing un-automated way for influencer categorization is an impossible task\n",
    "- Brands can find the right influencer quickly \n",
    "Using 50 clusters on cloud, roughly we can tag 1 million influencers every day"
   ]
  },
  {
   "cell_type": "markdown",
   "metadata": {},
   "source": [
    "### How we can test our keyword extraction method through a web app interface?\n",
    "There are different ways to test and deploy the Python module that has been developed, for example here the keyword extraction\n",
    "\n",
    "Flask-RESTful API is the one of the good one for this task because:\n",
    "- It is easy to develop and deploy\n",
    "- It is completely modular\n",
    "- In the next slide, you will watch a demo, how flask works with our keyword extraction in backend \n",
    " "
   ]
  },
  {
   "cell_type": "markdown",
   "metadata": {},
   "source": [
    "## Summary\n",
    "\n",
    "- We learned that it is possible to extract important words (keywords) from TF-IDF criteria\n",
    "- TF-IDF is computed from Bag-of-Words (BoW) matrix\n",
    "- TF-IDF is not the only way to extract keywords. We will do homework for TextRank algorithm\n",
    "- Sklearn, Gensim and Keras has built-in TF-IDF modules\n",
    "- TF-IDF or other text vectorization method can be used also for text classification\n",
    "\n",
    "Next lecture, we will talk about word2vec. It is useful for mapping our keyword list to pre-defined category "
   ]
  },
  {
   "cell_type": "code",
   "execution_count": null,
   "metadata": {},
   "outputs": [],
   "source": []
  }
 ],
 "metadata": {
  "kernelspec": {
   "display_name": "Python 3",
   "language": "python",
   "name": "python3"
  },
  "language_info": {
   "codemirror_mode": {
    "name": "ipython",
    "version": 3
   },
   "file_extension": ".py",
   "mimetype": "text/x-python",
   "name": "python",
   "nbconvert_exporter": "python",
   "pygments_lexer": "ipython3",
   "version": "3.7.7"
  }
 },
 "nbformat": 4,
 "nbformat_minor": 2
}
