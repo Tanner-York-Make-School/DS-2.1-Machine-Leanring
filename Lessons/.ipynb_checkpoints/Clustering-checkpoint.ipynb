{
 "cells": [
  {
   "cell_type": "markdown",
   "metadata": {},
   "source": [
    "# Text Vectorizaition and Clustering"
   ]
  },
  {
   "cell_type": "markdown",
   "metadata": {},
   "source": [
    "## Text Vectorization:\n",
    "The process to transform text data to numerical vectors.\n",
    "\n",
    "### Why do we need text vectorization?\n",
    "Think back to when we learned about Label Encoding and One-Hot Encoding: We took categories (text) and transformed them into numerical values. Text vectorization is similar in that we are taking text and turning it into something a machine can understand and manipulate by translating a word in to a unique vector of numbers. For example, we could associate the unique vector (0, 1, 0, 1) to the word queen.\n",
    "\n",
    "### Use Cases for Text Vectorization\n",
    "1. Count the number of unique words in each sentence (Bag-of-Words, we'll discuss this shortly!)\n",
    "2. Assign weights to each word in the sentence.\n",
    "3. Map each word to a number (dictionary with words as key and numbers as values) and represent each sentences as the sequence of numbers"
   ]
  },
  {
   "cell_type": "markdown",
   "metadata": {},
   "source": [
    "## Bag-of-Words Matrix\n",
    "Bag-of-Words (BoW) is a matrix where its rows are sentences and its columns are unique words seen across all of the sentences\n",
    "\n",
    "![title](Images/bag-of-words-matrix.png)\n",
    "\n",
    "### BoW in SKlearn\n",
    "We can write a function to return a BoW matrix. Below, we will see how we can build a BoW matrix by calling CountVectorizer in sklearn"
   ]
  },
  {
   "cell_type": "code",
   "execution_count": 1,
   "metadata": {},
   "outputs": [],
   "source": [
    "from sklearn.feature_extraction.text import CountVectorizer, TfidfVectorizer\n",
    "from sklearn.cluster import KMeans\n",
    "from sklearn.metrics import adjusted_rand_score\n",
    "\n",
    "sentences = ['This is the first sentence.',\n",
    "             'This one is the second sentence.',\n",
    "             'And this is the third one.',\n",
    "             'Is this the first sentence?']"
   ]
  },
  {
   "cell_type": "code",
   "execution_count": 2,
   "metadata": {},
   "outputs": [
    {
     "name": "stdout",
     "output_type": "stream",
     "text": [
      "[[0 1 1 0 0 1 1 0 1]\n",
      " [0 0 1 1 1 1 1 0 1]\n",
      " [1 0 1 1 0 0 1 1 1]\n",
      " [0 1 1 0 0 1 1 0 1]]\n"
     ]
    }
   ],
   "source": [
    "# Create vetorizer and vectorize sentences\n",
    "vectorizer = CountVectorizer()\n",
    "X = vectorizer.fit_transform(sentences)\n",
    "print(X.toarray())"
   ]
  },
  {
   "cell_type": "code",
   "execution_count": 3,
   "metadata": {},
   "outputs": [
    {
     "name": "stdout",
     "output_type": "stream",
     "text": [
      "['and', 'first', 'is', 'one', 'second', 'sentence', 'the', 'third', 'this']\n"
     ]
    }
   ],
   "source": [
    "# Get the unique words\n",
    "print(vectorizer.get_feature_names())"
   ]
  },
  {
   "cell_type": "markdown",
   "metadata": {},
   "source": [
    "## Clustering\n",
    "Clustering is an unsupervised learning method. A cluster is a group of data points that are grouped together due to similarities in their features. This is very often used because we usually don’t have labeled data\n",
    "\n",
    "**K-Means clustering** is a popular clustering algorithms: it finds a fixed number (k) of clusters in a set of data.\n",
    "\n",
    "The goal of any cluster algorithm is to find groups (clusters) in the given data\n",
    "\n",
    "### When do we use clustering?\n",
    "1. Cluster movie dataset -> We expect the movies which their genres are similar be clustered in the same group\n",
    "2. News Article Clustering -> We want the News related to science be in the same group, News related to sport be in the same group"
   ]
  },
  {
   "cell_type": "markdown",
   "metadata": {},
   "source": [
    "## K-means algorithm:\n",
    "Assumeing that the inputs are $s_1$, $s_2$, ..., $s_n$.\n",
    "\n",
    "1. Choose a nnumber $K$ arbitrarily.\n",
    "2. Pick $K$ random points as cluster centers (called centroids)\n",
    "3. Assign each $s_i$ to nearest cluster by calculating its distance to each centroid\n",
    "4. Find a new cluster center by taking the average of the assigned points from step 3\n",
    "5. Repeat Step 3 and 4 until none of the cluster assignments change"
   ]
  },
  {
   "cell_type": "code",
   "execution_count": 4,
   "metadata": {},
   "outputs": [
    {
     "data": {
      "text/plain": [
       "<matplotlib.collections.PathCollection at 0x11bd79110>"
      ]
     },
     "execution_count": 4,
     "metadata": {},
     "output_type": "execute_result"
    }
   ],
   "source": [
    "from sklearn.datasets.samples_generator import make_blobs\n",
    "import matplotlib.pyplot as plt\n",
    "\n",
    "# create a sample dataset with 300 data points and 4 cluster centers\n",
    "X, y = make_blobs(n_samples=300, centers=4, random_state=0, cluster_std=0.60)\n",
    "plt.scatter(X[:, 0], X[:, 1])"
   ]
  },
  {
   "cell_type": "code",
   "execution_count": 5,
   "metadata": {},
   "outputs": [
    {
     "name": "stdout",
     "output_type": "stream",
     "text": [
      "[[ 1.98258281  0.86771314]\n",
      " [-1.37324398  7.75368871]\n",
      " [ 0.94973532  4.41906906]\n",
      " [-1.58438467  2.83081263]]\n"
     ]
    }
   ],
   "source": [
    "from sklearn.cluster import KMeans\n",
    "\n",
    "# k-means algorithm where k = 4\n",
    "km = KMeans(n_clusters=4)\n",
    "km.fit(X)\n",
    "print(km.cluster_centers_)"
   ]
  },
  {
   "cell_type": "markdown",
   "metadata": {},
   "source": [
    "### How to choose the optimal number (K) of clusters?\n",
    "We could always choose a high number, but we may be wasting a lot of time and resources when a smaller number would give us the same results. How do we know the best K to pick so that we are running k-means as efficiently as possible?\n",
    "\n"
   ]
  },
  {
   "cell_type": "markdown",
   "metadata": {},
   "source": [
    "### The Elbow Method\n",
    "We can find the optimal K by utilizing the **Elbow Method:** a method that assigns a score to each K. When we plot these scores, we will get a line that looks like an arm bending at the elbow. **The K value that is closest to the \"elbow\" point; the point of the graph where the direction changes drastically, of the graph is our optimal K**\n",
    "\n",
    "Scores can be calculated two different ways:\n",
    "\n",
    "1. **Distortion:** the average of the squared distances from each sample to its closest cluster center. Typically, the Euclidean distance metric is used. The lower the distortion, the better the score\n",
    "    1. For numberes 1 to k, compute the following:\n",
    "        1. Euclidean squared distance formula: $\\sum_{j=1}^{k} (a_j-b_j)^2$\n",
    "        1. For each sample, find the squared distance between the sample and all k cluster centers, and then pick the closest center (shortest distance)\n",
    "        1. Take the average of the above\n",
    "2. **Inertia:** the sum of squared distances of samples to their closest cluster center. The lower the inertia, the better the score\n",
    "    1. We'll use the same Euclidean squared distance formula for here as well.\n",
    "    \n",
    "Either scoring method is valid, and will give you the same optimal K value. Below we will look at how to implement both scoring methods:"
   ]
  },
  {
   "cell_type": "markdown",
   "metadata": {},
   "source": [
    "### Distortion"
   ]
  },
  {
   "cell_type": "code",
   "execution_count": 6,
   "metadata": {},
   "outputs": [
    {
     "data": {
      "image/png": "[encoded data removed]",
      "text/plain": [
       "<Figure size 432x288 with 1 Axes>"
      ]
     },
     "metadata": {
      "needs_background": "light"
     },
     "output_type": "display_data"
    }
   ],
   "source": [
    "import numpy as np\n",
    "from scipy.spatial import distance\n",
    "\n",
    "distortions = []\n",
    "K = range(1, 10)\n",
    "for k in K:\n",
    "    # fit the k-means for a given k to the data (X)\n",
    "    km = KMeans(n_clusters=k)\n",
    "    km.fit(X)\n",
    "    # distance.cdist finds the squared distances\n",
    "    # axis=1 allows us to keep the min for each sample, not jsut the min across the entire dataset\n",
    "    # find the closest distance for each sample to a center, and take the average\n",
    "    distortions.append(sum(np.min(distance.cdist(X, km.cluster_centers_, 'euclidean'), axis=1)) / X.shape[0])\n",
    "\n",
    "# Plot the elbow: bx- = use a solid (-) blue (b) line, \n",
    "# and mark the x-axis points with an x (x)\n",
    "plt.plot(K, distortions, 'bx-')\n",
    "plt.xlabel('k')\n",
    "plt.ylabel('Distortion')\n",
    "plt.title('The Elbow Method showing the optimal k')\n",
    "plt.show()"
   ]
  },
  {
   "cell_type": "markdown",
   "metadata": {},
   "source": [
    "### Inertia"
   ]
  },
  {
   "cell_type": "code",
   "execution_count": 7,
   "metadata": {},
   "outputs": [
    {
     "data": {
      "image/png": "[encoded data removed]",
      "text/plain": [
       "<Figure size 432x288 with 1 Axes>"
      ]
     },
     "metadata": {
      "needs_background": "light"
     },
     "output_type": "display_data"
    }
   ],
   "source": [
    "sum_of_squared_distances = []\n",
    "K = range(1,15)\n",
    "for k in K:\n",
    "    km = KMeans(n_clusters=k)\n",
    "    km.fit(X)\n",
    "    # inertia is an attribute of km!\n",
    "    # https://scikit-learn.org/stable/modules/generated/sklearn.cluster.KMeans.html#sklearn.cluster.KMeans\n",
    "    sum_of_squared_distances.append(km.inertia_)\n",
    "    \n",
    "\n",
    "    # Plot the elbow\n",
    "plt.plot(K, sum_of_squared_distances, 'bx-')\n",
    "plt.xlabel('k')\n",
    "plt.ylabel('Distortion')\n",
    "plt.title('The Elbow Method showing the optimal k')\n",
    "plt.show()"
   ]
  },
  {
   "cell_type": "markdown",
   "metadata": {},
   "source": [
    "## Activity: Elbow Method\n",
    "Using the starter code below, prove that 6 is the optimal K for clustering the data using k-means using the elbow method. You can use either Distortion or Inertia."
   ]
  },
  {
   "cell_type": "code",
   "execution_count": 8,
   "metadata": {},
   "outputs": [
    {
     "data": {
      "text/plain": [
       "<matplotlib.collections.PathCollection at 0x11e0dea10>"
      ]
     },
     "execution_count": 8,
     "metadata": {},
     "output_type": "execute_result"
    },
    {
     "data": {
      "image/png": "[encoded data removed]",
      "text/plain": [
       "<Figure size 432x288 with 1 Axes>"
      ]
     },
     "metadata": {
      "needs_background": "light"
     },
     "output_type": "display_data"
    }
   ],
   "source": [
    "from sklearn.datasets.samples_generator import make_blobs\n",
    "import matplotlib.pyplot as plt\n",
    "\n",
    "Data, blob_y = make_blobs(n_samples=500, centers=6,\n",
    "                          random_state=0, cluster_std=0.80)\n",
    "plt.scatter(Data[:, 0], Data[:, 1])"
   ]
  },
  {
   "cell_type": "code",
   "execution_count": 9,
   "metadata": {},
   "outputs": [],
   "source": [
    "# Distortions\n",
    "distortions = []\n",
    "k = range(1, 10)\n",
    "for k in K:\n",
    "    k_means = KMeans(n_clusters=k)\n",
    "    k_means.fit(Data)\n",
    "    distortions.append(sum(np.min(distance.cdist(Data, k_means.cluster_centers_, 'euclidean'), axis=1)) \n",
    "                       / Data.shape[0])"
   ]
  },
  {
   "cell_type": "code",
   "execution_count": 10,
   "metadata": {
    "scrolled": true
   },
   "outputs": [
    {
     "data": {
      "image/png": "[encoded data removed]",
      "text/plain": [
       "<Figure size 432x288 with 1 Axes>"
      ]
     },
     "metadata": {
      "needs_background": "light"
     },
     "output_type": "display_data"
    }
   ],
   "source": [
    "plt.plot(K, distortions, 'bx-')\n",
    "plt.xlabel('k')\n",
    "plt.ylabel('Distortion')\n",
    "plt.title('The Elbow Method showing the optimal k')\n",
    "plt.show()"
   ]
  },
  {
   "cell_type": "markdown",
   "metadata": {},
   "source": [
    "## Activity: Find how many values are in each cluster "
   ]
  },
  {
   "cell_type": "code",
   "execution_count": 11,
   "metadata": {},
   "outputs": [
    {
     "data": {
      "text/plain": [
       "Counter({1: 83, 0: 82, 2: 82, 3: 83, 4: 78, 5: 92})"
      ]
     },
     "execution_count": 11,
     "metadata": {},
     "output_type": "execute_result"
    }
   ],
   "source": [
    "from collections import Counter\n",
    "\n",
    "k_means = KMeans(n_clusters=6)\n",
    "k_means.fit(Data)\n",
    "\n",
    "Counter(k_means.predict(Data))"
   ]
  },
  {
   "cell_type": "markdown",
   "metadata": {},
   "source": [
    "## Activity: Combine Text Vectorization and Clustering the Texts (30 min)\n",
    "Complete the activity below in groups of 3\n",
    "\n",
    "1. We want to cluster the given sentences\n",
    "\n",
    "2. To do this: We to use both concepts we learned today:\n",
    "\n",
    "    1. Vectorize the sentences (text-vectorization)\n",
    "\n",
    "    2. Apply Kmeans to cluster our vectorized sentences\n",
    "\n",
    "**Note:** We want to remove stop words from our sentences (and, or, is, etc.). To do this, we add stop_words='english' to our call to CountVectorize\n",
    "\n",
    "**Hint:** Look at the sentences in the starter code. How would you cluster the data if you were doing the clustering? Use that number as your K to start with."
   ]
  },
  {
   "cell_type": "code",
   "execution_count": 12,
   "metadata": {},
   "outputs": [
    {
     "name": "stdout",
     "output_type": "stream",
     "text": [
      "[0]\n",
      "[1]\n",
      "[0]\n"
     ]
    }
   ],
   "source": [
    "from sklearn.feature_extraction.text import CountVectorizer, TfidfVectorizer\n",
    "from sklearn.cluster import KMeans\n",
    "from sklearn.metrics import adjusted_rand_score\n",
    "\n",
    "sentences = [\"This little kitty came to play when I was eating at a restaurant.\",\n",
    "             \"Merley has the best squooshy kitten belly.\",\n",
    "             \"Google Translate app is incredible.\",\n",
    "             \"If you open 100 tab in google you get a smiley face.\",\n",
    "             \"Best cat photo I've ever taken.\",\n",
    "             \"Climbing ninja cat.\",\n",
    "             \"Impressed with google map feedback.\",\n",
    "             \"Key promoter extension for Google Chrome.\"]\n",
    "\n",
    "vectorizer = CountVectorizer(stop_words='english')\n",
    "X = vectorizer.fit_transform(sentences)\n",
    "\n",
    "\n",
    "\n",
    "model = KMeans(n_clusters=2)\n",
    "model.fit(X)\n",
    "\n",
    "Y = vectorizer.transform(['Google can\\'t be hungry.'])\n",
    "print(model.predict(Y))\n",
    "\n",
    "Y2 = vectorizer.transform(['Kittens can be hungery.' ])\n",
    "print(model.predict(Y2))\n",
    "\n",
    "Y3 = vectorizer.transform(['Kittens can be hungery but Google cant.'])\n",
    "print(model.predict(Y3))"
   ]
  },
  {
   "cell_type": "code",
   "execution_count": null,
   "metadata": {},
   "outputs": [],
   "source": []
  }
 ],
 "metadata": {
  "kernelspec": {
   "display_name": "Python 3",
   "language": "python",
   "name": "python3"
  },
  "language_info": {
   "codemirror_mode": {
    "name": "ipython",
    "version": 3
   },
   "file_extension": ".py",
   "mimetype": "text/x-python",
   "name": "python",
   "nbconvert_exporter": "python",
   "pygments_lexer": "ipython3",
   "version": "3.7.7"
  }
 },
 "nbformat": 4,
 "nbformat_minor": 2
}
